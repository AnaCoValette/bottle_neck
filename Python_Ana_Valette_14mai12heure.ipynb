{
 "cells": [
  {
   "cell_type": "markdown",
   "metadata": {},
   "source": [
    "# <span style='color:pink'>NOTEBOOK - PROJET PYTHON - Bottle-neck - candidat Ana Valette/corrigé par Davy</span>"
   ]
  },
  {
   "cell_type": "code",
   "execution_count": 202,
   "metadata": {},
   "outputs": [
    {
     "name": "stdout",
     "output_type": "stream",
     "text": [
      "Requirement already satisfied: pandas in c:\\users\\cokre\\appdata\\local\\packages\\pythonsoftwarefoundation.python.3.11_qbz5n2kfra8p0\\localcache\\local-packages\\python311\\site-packages (2.2.2)\n",
      "Requirement already satisfied: numpy>=1.23.2 in c:\\users\\cokre\\appdata\\local\\packages\\pythonsoftwarefoundation.python.3.11_qbz5n2kfra8p0\\localcache\\local-packages\\python311\\site-packages (from pandas) (1.26.4)\n",
      "Requirement already satisfied: python-dateutil>=2.8.2 in c:\\users\\cokre\\appdata\\local\\packages\\pythonsoftwarefoundation.python.3.11_qbz5n2kfra8p0\\localcache\\local-packages\\python311\\site-packages (from pandas) (2.8.2)\n",
      "Requirement already satisfied: pytz>=2020.1 in c:\\users\\cokre\\appdata\\local\\packages\\pythonsoftwarefoundation.python.3.11_qbz5n2kfra8p0\\localcache\\local-packages\\python311\\site-packages (from pandas) (2024.1)\n",
      "Requirement already satisfied: tzdata>=2022.7 in c:\\users\\cokre\\appdata\\local\\packages\\pythonsoftwarefoundation.python.3.11_qbz5n2kfra8p0\\localcache\\local-packages\\python311\\site-packages (from pandas) (2024.1)\n",
      "Requirement already satisfied: six>=1.5 in c:\\users\\cokre\\appdata\\local\\packages\\pythonsoftwarefoundation.python.3.11_qbz5n2kfra8p0\\localcache\\local-packages\\python311\\site-packages (from python-dateutil>=2.8.2->pandas) (1.16.0)\n"
     ]
    }
   ],
   "source": [
    "!pip install pandas\n",
    "import pandas as pd\n",
    "\n"
   ]
  },
  {
   "cell_type": "code",
   "execution_count": 203,
   "metadata": {},
   "outputs": [
    {
     "name": "stdout",
     "output_type": "stream",
     "text": [
      "Requirement already satisfied: openpyxl in c:\\users\\cokre\\appdata\\local\\packages\\pythonsoftwarefoundation.python.3.11_qbz5n2kfra8p0\\localcache\\local-packages\\python311\\site-packages (3.1.2)\n",
      "Requirement already satisfied: et-xmlfile in c:\\users\\cokre\\appdata\\local\\packages\\pythonsoftwarefoundation.python.3.11_qbz5n2kfra8p0\\localcache\\local-packages\\python311\\site-packages (from openpyxl) (1.1.0)\n"
     ]
    }
   ],
   "source": [
    "!pip install openpyxl"
   ]
  },
  {
   "cell_type": "markdown",
   "metadata": {},
   "source": [
    "## <span style='color:violet'>Importation fichiers ERP et different information sur ce fichier</span>"
   ]
  },
  {
   "cell_type": "code",
   "execution_count": 204,
   "metadata": {},
   "outputs": [
    {
     "name": "stdout",
     "output_type": "stream",
     "text": [
      "     product_id  onsale_web  price  stock_quantity stock_status\n",
      "0          3847           1   24.2               0   outofstock\n",
      "1          3849           1   34.3               0   outofstock\n",
      "2          3850           1   20.8               0   outofstock\n",
      "3          4032           1   14.1               0   outofstock\n",
      "4          4039           1   46.0               0   outofstock\n",
      "..          ...         ...    ...             ...          ...\n",
      "820        7203           0   45.0              30      instock\n",
      "821        7204           0   45.0               9      instock\n",
      "822        7247           1   54.8              23      instock\n",
      "823        7329           0   26.5              14      instock\n",
      "824        7338           1   16.3              45      instock\n",
      "\n",
      "[825 rows x 5 columns]\n"
     ]
    },
    {
     "name": "stderr",
     "output_type": "stream",
     "text": [
      "C:\\Users\\cokre\\AppData\\Local\\Packages\\PythonSoftwareFoundation.Python.3.11_qbz5n2kfra8p0\\LocalCache\\local-packages\\Python311\\site-packages\\openpyxl\\worksheet\\_reader.py:329: UserWarning: Unknown extension is not supported and will be removed\n",
      "  warn(msg)\n"
     ]
    }
   ],
   "source": [
    "erp = pd.read_excel(\"Fichier_erp.xlsx\")\n",
    "\n",
    "\n",
    "print(erp)"
   ]
  },
  {
   "cell_type": "code",
   "execution_count": 205,
   "metadata": {},
   "outputs": [
    {
     "data": {
      "text/plain": [
       "<bound method NDFrame.describe of      product_id  onsale_web  price  stock_quantity stock_status\n",
       "0          3847           1   24.2               0   outofstock\n",
       "1          3849           1   34.3               0   outofstock\n",
       "2          3850           1   20.8               0   outofstock\n",
       "3          4032           1   14.1               0   outofstock\n",
       "4          4039           1   46.0               0   outofstock\n",
       "..          ...         ...    ...             ...          ...\n",
       "820        7203           0   45.0              30      instock\n",
       "821        7204           0   45.0               9      instock\n",
       "822        7247           1   54.8              23      instock\n",
       "823        7329           0   26.5              14      instock\n",
       "824        7338           1   16.3              45      instock\n",
       "\n",
       "[825 rows x 5 columns]>"
      ]
     },
     "execution_count": 205,
     "metadata": {},
     "output_type": "execute_result"
    }
   ],
   "source": [
    "erp.describe"
   ]
  },
  {
   "cell_type": "code",
   "execution_count": 206,
   "metadata": {},
   "outputs": [
    {
     "name": "stdout",
     "output_type": "stream",
     "text": [
      "product_id        0\n",
      "onsale_web        0\n",
      "price             0\n",
      "stock_quantity    0\n",
      "stock_status      0\n",
      "dtype: int64\n"
     ]
    }
   ],
   "source": [
    "null_count_erp = erp.isnull().sum()\n",
    "print(null_count_erp)"
   ]
  },
  {
   "cell_type": "code",
   "execution_count": 207,
   "metadata": {},
   "outputs": [
    {
     "name": "stdout",
     "output_type": "stream",
     "text": [
      "Empty DataFrame\n",
      "Columns: [product_id, onsale_web, price, stock_quantity, stock_status]\n",
      "Index: []\n"
     ]
    }
   ],
   "source": [
    "duplicated_rows_erp = erp[erp.duplicated()]\n",
    "\n",
    "print(duplicated_rows_erp)"
   ]
  },
  {
   "cell_type": "markdown",
   "metadata": {},
   "source": [
    "<font color='red'>CONCLUSION: \n",
    "                            1.il n'y a pas des duplicates  ni null dans le fichier \"erp\". Nous constatons que le fichier est propre. </font>"
   ]
  },
  {
   "cell_type": "markdown",
   "metadata": {},
   "source": [
    "## <span style='color:violet'>Importation fichiers \"liaison\" et differentes informations sur ce fichier</span>"
   ]
  },
  {
   "cell_type": "code",
   "execution_count": 208,
   "metadata": {},
   "outputs": [
    {
     "name": "stdout",
     "output_type": "stream",
     "text": [
      "     product_id   id_web\n",
      "0          3847    15298\n",
      "1          3849    15296\n",
      "2          3850    15300\n",
      "3          4032    19814\n",
      "4          4039    19815\n",
      "..          ...      ...\n",
      "820        7203      NaN\n",
      "821        7204      NaN\n",
      "822        7247  13127-1\n",
      "823        7329  14680-1\n",
      "824        7338    16230\n",
      "\n",
      "[825 rows x 2 columns]\n"
     ]
    },
    {
     "name": "stderr",
     "output_type": "stream",
     "text": [
      "C:\\Users\\cokre\\AppData\\Local\\Packages\\PythonSoftwareFoundation.Python.3.11_qbz5n2kfra8p0\\LocalCache\\local-packages\\Python311\\site-packages\\openpyxl\\worksheet\\_reader.py:329: UserWarning: Unknown extension is not supported and will be removed\n",
      "  warn(msg)\n"
     ]
    }
   ],
   "source": [
    "liaison = pd.read_excel(\"Fichier_liaison.xlsx\") \n",
    "print(liaison)"
   ]
  },
  {
   "cell_type": "code",
   "execution_count": 209,
   "metadata": {},
   "outputs": [
    {
     "name": "stdout",
     "output_type": "stream",
     "text": [
      "product_id     0\n",
      "id_web        91\n",
      "dtype: int64\n"
     ]
    }
   ],
   "source": [
    "null_count_liaison = liaison.isnull().sum()\n",
    "print(null_count_liaison)"
   ]
  },
  {
   "cell_type": "code",
   "execution_count": 210,
   "metadata": {},
   "outputs": [],
   "source": [
    "#pd.options.display.max_rows = None # pour pouvoir visualiser tout les lignes"
   ]
  },
  {
   "cell_type": "code",
   "execution_count": 211,
   "metadata": {},
   "outputs": [
    {
     "name": "stdout",
     "output_type": "stream",
     "text": [
      "     product_id id_web\n",
      "19         4055    NaN\n",
      "49         4090    NaN\n",
      "50         4092    NaN\n",
      "119        4195    NaN\n",
      "131        4209    NaN\n",
      "..          ...    ...\n",
      "817        7196    NaN\n",
      "818        7200    NaN\n",
      "819        7201    NaN\n",
      "820        7203    NaN\n",
      "821        7204    NaN\n",
      "\n",
      "[91 rows x 2 columns]\n"
     ]
    }
   ],
   "source": [
    "rows_with_nulls = liaison[liaison.isnull().any(axis=1)]\n",
    "\n",
    "print(rows_with_nulls)\n"
   ]
  },
  {
   "cell_type": "code",
   "execution_count": 212,
   "metadata": {},
   "outputs": [
    {
     "name": "stdout",
     "output_type": "stream",
     "text": [
      "Empty DataFrame\n",
      "Columns: [product_id, id_web]\n",
      "Index: []\n"
     ]
    }
   ],
   "source": [
    "duplicated_rows_liaison = liaison[liaison.duplicated()]\n",
    "\n",
    "print(duplicated_rows_liaison)"
   ]
  },
  {
   "cell_type": "markdown",
   "metadata": {},
   "source": [
    "<font color='red'>CONCLUSION: \n",
    "                            1.il n'y a pas des duplicates dans le fichier \"liaison\"\n",
    "                            2.ll y a 91 valeurs NULL dans le id_web, donc 91 products n'ont pas de corespondant id_web </font>"
   ]
  },
  {
   "cell_type": "markdown",
   "metadata": {},
   "source": [
    "## <span style='color:violet'>Importation fichiers \"web\" et differentes informations sur ce fichier</span>"
   ]
  },
  {
   "cell_type": "code",
   "execution_count": 213,
   "metadata": {},
   "outputs": [
    {
     "name": "stdout",
     "output_type": "stream",
     "text": [
      "        sku  virtual  downloadable  rating_count  average_rating  total_sales  \\\n",
      "0     16004        0             0             0             0.0          5.0   \n",
      "1       NaN        0             0             0             NaN          NaN   \n",
      "2     15075        0             0             0             0.0          3.0   \n",
      "3     16209        0             0             0             0.0          6.0   \n",
      "4     15763        0             0             0             0.0          1.0   \n",
      "...     ...      ...           ...           ...             ...          ...   \n",
      "1508  12881        0             0             0             0.0          2.0   \n",
      "1509  15663        0             0             0             0.0          3.0   \n",
      "1510  15910        0             0             0             0.0          0.0   \n",
      "1511     38        0             0             0             0.0         38.0   \n",
      "1512  13599        0             0             0             0.0          1.0   \n",
      "\n",
      "     tax_status  tax_class  post_author           post_date  ...  \\\n",
      "0           NaN        NaN          2.0 2018-06-07 16:27:25  ...   \n",
      "1           NaN        NaN          NaN                 NaT  ...   \n",
      "2       taxable        NaN          2.0 2018-02-14 15:39:43  ...   \n",
      "3       taxable        NaN          2.0 2018-02-14 17:15:31  ...   \n",
      "4           NaN        NaN          2.0 2020-01-25 14:08:16  ...   \n",
      "...         ...        ...          ...                 ...  ...   \n",
      "1508        NaN        NaN          2.0 2019-03-28 15:25:14  ...   \n",
      "1509    taxable        NaN          2.0 2018-02-27 10:27:01  ...   \n",
      "1510    taxable        NaN          2.0 2019-03-28 10:59:43  ...   \n",
      "1511        NaN        NaN          2.0 2018-04-18 12:25:58  ...   \n",
      "1512        NaN        NaN          2.0 2018-03-01 14:12:39  ...   \n",
      "\n",
      "                                              post_name       post_modified  \\\n",
      "0                       chateau-du-couvent-pomerol-2017 2020-08-25 18:35:02   \n",
      "1                                                   NaN                 NaT   \n",
      "2                     pares-balta-penedes-indigena-2017 2020-08-20 15:35:02   \n",
      "3                        maurel-cabardes-tradition-2017 2020-08-05 18:05:03   \n",
      "4     domaine-de-la-monardiere-vacqueyras-les-vieill... 2020-08-21 11:35:02   \n",
      "...                                                 ...                 ...   \n",
      "1508                 montbourgeau-etoile-vin-jaune-2009 2019-12-30 10:30:01   \n",
      "1509  chermette-domaine-du-vissoux-brouilly-pierreux... 2020-08-01 09:35:02   \n",
      "1510     thevenet-quintaine-vire-clesse-la-bongran-2015 2020-08-14 10:45:02   \n",
      "1511         emile-boeckel-cremant-brut-blanc-de-blancs 2020-08-27 17:15:03   \n",
      "1512     champagne-mailly-grand-cru-blanc-de-pinot-noir 2020-08-26 18:05:02   \n",
      "\n",
      "       post_modified_gmt post_content_filtered post_parent  \\\n",
      "0    2020-08-25 16:35:02                   NaN         0.0   \n",
      "1                    NaT                   NaN         NaN   \n",
      "2    2020-08-20 13:35:02                   NaN         0.0   \n",
      "3    2020-08-05 16:05:03                   NaN         0.0   \n",
      "4    2020-08-21 09:35:02                   NaN         0.0   \n",
      "...                  ...                   ...         ...   \n",
      "1508 2019-12-30 09:30:01                   NaN         0.0   \n",
      "1509 2020-08-01 07:35:02                   NaN         0.0   \n",
      "1510 2020-08-14 08:45:02                   NaN         0.0   \n",
      "1511 2020-08-27 15:15:03                   NaN         0.0   \n",
      "1512 2020-08-26 16:05:02                   NaN         0.0   \n",
      "\n",
      "                                                   guid menu_order  \\\n",
      "0     https://www.bottle-neck.fr/wp-content/uploads/...        0.0   \n",
      "1                                                   NaN        NaN   \n",
      "2     https://www.bottle-neck.fr/?post_type=product&...        0.0   \n",
      "3     https://www.bottle-neck.fr/?post_type=product&...        0.0   \n",
      "4     https://www.bottle-neck.fr/wp-content/uploads/...        0.0   \n",
      "...                                                 ...        ...   \n",
      "1508  https://www.bottle-neck.fr/wp-content/uploads/...        0.0   \n",
      "1509  https://www.bottle-neck.fr/?post_type=product&...        0.0   \n",
      "1510  https://www.bottle-neck.fr/?post_type=product&...        0.0   \n",
      "1511  https://www.bottle-neck.fr/wp-content/uploads/...        0.0   \n",
      "1512  https://www.bottle-neck.fr/wp-content/uploads/...        0.0   \n",
      "\n",
      "       post_type post_mime_type comment_count  \n",
      "0     attachment     image/jpeg           0.0  \n",
      "1            NaN            NaN           NaN  \n",
      "2        product            NaN           0.0  \n",
      "3        product            NaN           0.0  \n",
      "4     attachment     image/jpeg           0.0  \n",
      "...          ...            ...           ...  \n",
      "1508  attachment     image/jpeg           0.0  \n",
      "1509     product            NaN           0.0  \n",
      "1510     product            NaN           0.0  \n",
      "1511  attachment     image/jpeg           0.0  \n",
      "1512  attachment     image/jpeg           0.0  \n",
      "\n",
      "[1513 rows x 28 columns]\n"
     ]
    },
    {
     "name": "stderr",
     "output_type": "stream",
     "text": [
      "C:\\Users\\cokre\\AppData\\Local\\Packages\\PythonSoftwareFoundation.Python.3.11_qbz5n2kfra8p0\\LocalCache\\local-packages\\Python311\\site-packages\\openpyxl\\worksheet\\_reader.py:329: UserWarning: Unknown extension is not supported and will be removed\n",
      "  warn(msg)\n"
     ]
    }
   ],
   "source": [
    "web = pd.read_excel(\"Fichier_web.xlsx\") \n",
    "print(web)"
   ]
  },
  {
   "cell_type": "code",
   "execution_count": 214,
   "metadata": {},
   "outputs": [
    {
     "data": {
      "text/plain": [
       "<bound method NDFrame.describe of         sku  virtual  downloadable  rating_count  average_rating  total_sales  \\\n",
       "0     16004        0             0             0             0.0          5.0   \n",
       "1       NaN        0             0             0             NaN          NaN   \n",
       "2     15075        0             0             0             0.0          3.0   \n",
       "3     16209        0             0             0             0.0          6.0   \n",
       "4     15763        0             0             0             0.0          1.0   \n",
       "...     ...      ...           ...           ...             ...          ...   \n",
       "1508  12881        0             0             0             0.0          2.0   \n",
       "1509  15663        0             0             0             0.0          3.0   \n",
       "1510  15910        0             0             0             0.0          0.0   \n",
       "1511     38        0             0             0             0.0         38.0   \n",
       "1512  13599        0             0             0             0.0          1.0   \n",
       "\n",
       "     tax_status  tax_class  post_author           post_date  ...  \\\n",
       "0           NaN        NaN          2.0 2018-06-07 16:27:25  ...   \n",
       "1           NaN        NaN          NaN                 NaT  ...   \n",
       "2       taxable        NaN          2.0 2018-02-14 15:39:43  ...   \n",
       "3       taxable        NaN          2.0 2018-02-14 17:15:31  ...   \n",
       "4           NaN        NaN          2.0 2020-01-25 14:08:16  ...   \n",
       "...         ...        ...          ...                 ...  ...   \n",
       "1508        NaN        NaN          2.0 2019-03-28 15:25:14  ...   \n",
       "1509    taxable        NaN          2.0 2018-02-27 10:27:01  ...   \n",
       "1510    taxable        NaN          2.0 2019-03-28 10:59:43  ...   \n",
       "1511        NaN        NaN          2.0 2018-04-18 12:25:58  ...   \n",
       "1512        NaN        NaN          2.0 2018-03-01 14:12:39  ...   \n",
       "\n",
       "                                              post_name       post_modified  \\\n",
       "0                       chateau-du-couvent-pomerol-2017 2020-08-25 18:35:02   \n",
       "1                                                   NaN                 NaT   \n",
       "2                     pares-balta-penedes-indigena-2017 2020-08-20 15:35:02   \n",
       "3                        maurel-cabardes-tradition-2017 2020-08-05 18:05:03   \n",
       "4     domaine-de-la-monardiere-vacqueyras-les-vieill... 2020-08-21 11:35:02   \n",
       "...                                                 ...                 ...   \n",
       "1508                 montbourgeau-etoile-vin-jaune-2009 2019-12-30 10:30:01   \n",
       "1509  chermette-domaine-du-vissoux-brouilly-pierreux... 2020-08-01 09:35:02   \n",
       "1510     thevenet-quintaine-vire-clesse-la-bongran-2015 2020-08-14 10:45:02   \n",
       "1511         emile-boeckel-cremant-brut-blanc-de-blancs 2020-08-27 17:15:03   \n",
       "1512     champagne-mailly-grand-cru-blanc-de-pinot-noir 2020-08-26 18:05:02   \n",
       "\n",
       "       post_modified_gmt post_content_filtered post_parent  \\\n",
       "0    2020-08-25 16:35:02                   NaN         0.0   \n",
       "1                    NaT                   NaN         NaN   \n",
       "2    2020-08-20 13:35:02                   NaN         0.0   \n",
       "3    2020-08-05 16:05:03                   NaN         0.0   \n",
       "4    2020-08-21 09:35:02                   NaN         0.0   \n",
       "...                  ...                   ...         ...   \n",
       "1508 2019-12-30 09:30:01                   NaN         0.0   \n",
       "1509 2020-08-01 07:35:02                   NaN         0.0   \n",
       "1510 2020-08-14 08:45:02                   NaN         0.0   \n",
       "1511 2020-08-27 15:15:03                   NaN         0.0   \n",
       "1512 2020-08-26 16:05:02                   NaN         0.0   \n",
       "\n",
       "                                                   guid menu_order  \\\n",
       "0     https://www.bottle-neck.fr/wp-content/uploads/...        0.0   \n",
       "1                                                   NaN        NaN   \n",
       "2     https://www.bottle-neck.fr/?post_type=product&...        0.0   \n",
       "3     https://www.bottle-neck.fr/?post_type=product&...        0.0   \n",
       "4     https://www.bottle-neck.fr/wp-content/uploads/...        0.0   \n",
       "...                                                 ...        ...   \n",
       "1508  https://www.bottle-neck.fr/wp-content/uploads/...        0.0   \n",
       "1509  https://www.bottle-neck.fr/?post_type=product&...        0.0   \n",
       "1510  https://www.bottle-neck.fr/?post_type=product&...        0.0   \n",
       "1511  https://www.bottle-neck.fr/wp-content/uploads/...        0.0   \n",
       "1512  https://www.bottle-neck.fr/wp-content/uploads/...        0.0   \n",
       "\n",
       "       post_type post_mime_type comment_count  \n",
       "0     attachment     image/jpeg           0.0  \n",
       "1            NaN            NaN           NaN  \n",
       "2        product            NaN           0.0  \n",
       "3        product            NaN           0.0  \n",
       "4     attachment     image/jpeg           0.0  \n",
       "...          ...            ...           ...  \n",
       "1508  attachment     image/jpeg           0.0  \n",
       "1509     product            NaN           0.0  \n",
       "1510     product            NaN           0.0  \n",
       "1511  attachment     image/jpeg           0.0  \n",
       "1512  attachment     image/jpeg           0.0  \n",
       "\n",
       "[1513 rows x 28 columns]>"
      ]
     },
     "execution_count": 214,
     "metadata": {},
     "output_type": "execute_result"
    }
   ],
   "source": [
    "web.describe"
   ]
  },
  {
   "cell_type": "code",
   "execution_count": 215,
   "metadata": {},
   "outputs": [
    {
     "name": "stdout",
     "output_type": "stream",
     "text": [
      "      sku  virtual  downloadable  rating_count  average_rating  total_sales  \\\n",
      "17    NaN        0             0             0             NaN          NaN   \n",
      "82    NaN        0             0             0             NaN          NaN   \n",
      "97    NaN        0             0             0             NaN          NaN   \n",
      "121   NaN        0             0             0             NaN          NaN   \n",
      "126   NaN        0             0             0             NaN          NaN   \n",
      "...   ...      ...           ...           ...             ...          ...   \n",
      "1378  NaN        0             0             0             NaN          NaN   \n",
      "1421  NaN        0             0             0             NaN          NaN   \n",
      "1448  NaN        0             0             0             NaN          NaN   \n",
      "1450  NaN        0             0             0             NaN          NaN   \n",
      "1496  NaN        0             0             0             NaN          NaN   \n",
      "\n",
      "     tax_status  tax_class  post_author post_date  ... post_name  \\\n",
      "17          NaN        NaN          NaN       NaT  ...       NaN   \n",
      "82          NaN        NaN          NaN       NaT  ...       NaN   \n",
      "97          NaN        NaN          NaN       NaT  ...       NaN   \n",
      "121         NaN        NaN          NaN       NaT  ...       NaN   \n",
      "126         NaN        NaN          NaN       NaT  ...       NaN   \n",
      "...         ...        ...          ...       ...  ...       ...   \n",
      "1378        NaN        NaN          NaN       NaT  ...       NaN   \n",
      "1421        NaN        NaN          NaN       NaT  ...       NaN   \n",
      "1448        NaN        NaN          NaN       NaT  ...       NaN   \n",
      "1450        NaN        NaN          NaN       NaT  ...       NaN   \n",
      "1496        NaN        NaN          NaN       NaT  ...       NaN   \n",
      "\n",
      "      post_modified post_modified_gmt post_content_filtered post_parent guid  \\\n",
      "17              NaT               NaT                   NaN         NaN  NaN   \n",
      "82              NaT               NaT                   NaN         NaN  NaN   \n",
      "97              NaT               NaT                   NaN         NaN  NaN   \n",
      "121             NaT               NaT                   NaN         NaN  NaN   \n",
      "126             NaT               NaT                   NaN         NaN  NaN   \n",
      "...             ...               ...                   ...         ...  ...   \n",
      "1378            NaT               NaT                   NaN         NaN  NaN   \n",
      "1421            NaT               NaT                   NaN         NaN  NaN   \n",
      "1448            NaT               NaT                   NaN         NaN  NaN   \n",
      "1450            NaT               NaT                   NaN         NaN  NaN   \n",
      "1496            NaT               NaT                   NaN         NaN  NaN   \n",
      "\n",
      "     menu_order  post_type post_mime_type comment_count  \n",
      "17          NaN        NaN            NaN           NaN  \n",
      "82          NaN        NaN            NaN           NaN  \n",
      "97          NaN        NaN            NaN           NaN  \n",
      "121         NaN        NaN            NaN           NaN  \n",
      "126         NaN        NaN            NaN           NaN  \n",
      "...         ...        ...            ...           ...  \n",
      "1378        NaN        NaN            NaN           NaN  \n",
      "1421        NaN        NaN            NaN           NaN  \n",
      "1448        NaN        NaN            NaN           NaN  \n",
      "1450        NaN        NaN            NaN           NaN  \n",
      "1496        NaN        NaN            NaN           NaN  \n",
      "\n",
      "[82 rows x 28 columns]\n"
     ]
    }
   ],
   "source": [
    "duplicated_rows_web = web[web.duplicated()]\n",
    "\n",
    "print(duplicated_rows_web)"
   ]
  },
  {
   "cell_type": "markdown",
   "metadata": {},
   "source": [
    "<font color='red'>CONCLUSION: les duplicates sur toutes les colonnes, c'est en fait des produits qui n'ont tous aucun donées en consequence ils vaut mieux les suprimer</font>"
   ]
  },
  {
   "cell_type": "code",
   "execution_count": 216,
   "metadata": {},
   "outputs": [
    {
     "name": "stdout",
     "output_type": "stream",
     "text": [
      "        sku  virtual  downloadable  rating_count  average_rating  total_sales  \\\n",
      "0     16004        0             0             0             0.0          5.0   \n",
      "1       NaN        0             0             0             NaN          NaN   \n",
      "2     15075        0             0             0             0.0          3.0   \n",
      "3     16209        0             0             0             0.0          6.0   \n",
      "4     15763        0             0             0             0.0          1.0   \n",
      "...     ...      ...           ...           ...             ...          ...   \n",
      "1508  12881        0             0             0             0.0          2.0   \n",
      "1509  15663        0             0             0             0.0          3.0   \n",
      "1510  15910        0             0             0             0.0          0.0   \n",
      "1511     38        0             0             0             0.0         38.0   \n",
      "1512  13599        0             0             0             0.0          1.0   \n",
      "\n",
      "     tax_status  tax_class  post_author           post_date  ...  \\\n",
      "0           NaN        NaN          2.0 2018-06-07 16:27:25  ...   \n",
      "1           NaN        NaN          NaN                 NaT  ...   \n",
      "2       taxable        NaN          2.0 2018-02-14 15:39:43  ...   \n",
      "3       taxable        NaN          2.0 2018-02-14 17:15:31  ...   \n",
      "4           NaN        NaN          2.0 2020-01-25 14:08:16  ...   \n",
      "...         ...        ...          ...                 ...  ...   \n",
      "1508        NaN        NaN          2.0 2019-03-28 15:25:14  ...   \n",
      "1509    taxable        NaN          2.0 2018-02-27 10:27:01  ...   \n",
      "1510    taxable        NaN          2.0 2019-03-28 10:59:43  ...   \n",
      "1511        NaN        NaN          2.0 2018-04-18 12:25:58  ...   \n",
      "1512        NaN        NaN          2.0 2018-03-01 14:12:39  ...   \n",
      "\n",
      "                                              post_name       post_modified  \\\n",
      "0                       chateau-du-couvent-pomerol-2017 2020-08-25 18:35:02   \n",
      "1                                                   NaN                 NaT   \n",
      "2                     pares-balta-penedes-indigena-2017 2020-08-20 15:35:02   \n",
      "3                        maurel-cabardes-tradition-2017 2020-08-05 18:05:03   \n",
      "4     domaine-de-la-monardiere-vacqueyras-les-vieill... 2020-08-21 11:35:02   \n",
      "...                                                 ...                 ...   \n",
      "1508                 montbourgeau-etoile-vin-jaune-2009 2019-12-30 10:30:01   \n",
      "1509  chermette-domaine-du-vissoux-brouilly-pierreux... 2020-08-01 09:35:02   \n",
      "1510     thevenet-quintaine-vire-clesse-la-bongran-2015 2020-08-14 10:45:02   \n",
      "1511         emile-boeckel-cremant-brut-blanc-de-blancs 2020-08-27 17:15:03   \n",
      "1512     champagne-mailly-grand-cru-blanc-de-pinot-noir 2020-08-26 18:05:02   \n",
      "\n",
      "       post_modified_gmt post_content_filtered post_parent  \\\n",
      "0    2020-08-25 16:35:02                   NaN         0.0   \n",
      "1                    NaT                   NaN         NaN   \n",
      "2    2020-08-20 13:35:02                   NaN         0.0   \n",
      "3    2020-08-05 16:05:03                   NaN         0.0   \n",
      "4    2020-08-21 09:35:02                   NaN         0.0   \n",
      "...                  ...                   ...         ...   \n",
      "1508 2019-12-30 09:30:01                   NaN         0.0   \n",
      "1509 2020-08-01 07:35:02                   NaN         0.0   \n",
      "1510 2020-08-14 08:45:02                   NaN         0.0   \n",
      "1511 2020-08-27 15:15:03                   NaN         0.0   \n",
      "1512 2020-08-26 16:05:02                   NaN         0.0   \n",
      "\n",
      "                                                   guid menu_order  \\\n",
      "0     https://www.bottle-neck.fr/wp-content/uploads/...        0.0   \n",
      "1                                                   NaN        NaN   \n",
      "2     https://www.bottle-neck.fr/?post_type=product&...        0.0   \n",
      "3     https://www.bottle-neck.fr/?post_type=product&...        0.0   \n",
      "4     https://www.bottle-neck.fr/wp-content/uploads/...        0.0   \n",
      "...                                                 ...        ...   \n",
      "1508  https://www.bottle-neck.fr/wp-content/uploads/...        0.0   \n",
      "1509  https://www.bottle-neck.fr/?post_type=product&...        0.0   \n",
      "1510  https://www.bottle-neck.fr/?post_type=product&...        0.0   \n",
      "1511  https://www.bottle-neck.fr/wp-content/uploads/...        0.0   \n",
      "1512  https://www.bottle-neck.fr/wp-content/uploads/...        0.0   \n",
      "\n",
      "       post_type post_mime_type comment_count  \n",
      "0     attachment     image/jpeg           0.0  \n",
      "1            NaN            NaN           NaN  \n",
      "2        product            NaN           0.0  \n",
      "3        product            NaN           0.0  \n",
      "4     attachment     image/jpeg           0.0  \n",
      "...          ...            ...           ...  \n",
      "1508  attachment     image/jpeg           0.0  \n",
      "1509     product            NaN           0.0  \n",
      "1510     product            NaN           0.0  \n",
      "1511  attachment     image/jpeg           0.0  \n",
      "1512  attachment     image/jpeg           0.0  \n",
      "\n",
      "[1513 rows x 28 columns]\n"
     ]
    }
   ],
   "source": [
    "web_nonull = web.dropna(how='all')\n",
    "\n",
    "print(web_nonull)"
   ]
  },
  {
   "cell_type": "code",
   "execution_count": 217,
   "metadata": {},
   "outputs": [
    {
     "name": "stdout",
     "output_type": "stream",
     "text": [
      "        sku  virtual  downloadable  rating_count  average_rating  total_sales  \\\n",
      "0     16004        0             0             0             0.0          5.0   \n",
      "1       NaN        0             0             0             NaN          NaN   \n",
      "2     15075        0             0             0             0.0          3.0   \n",
      "3     16209        0             0             0             0.0          6.0   \n",
      "4     15763        0             0             0             0.0          1.0   \n",
      "...     ...      ...           ...           ...             ...          ...   \n",
      "1508  12881        0             0             0             0.0          2.0   \n",
      "1509  15663        0             0             0             0.0          3.0   \n",
      "1510  15910        0             0             0             0.0          0.0   \n",
      "1511     38        0             0             0             0.0         38.0   \n",
      "1512  13599        0             0             0             0.0          1.0   \n",
      "\n",
      "     tax_status  tax_class  post_author           post_date  ...  \\\n",
      "0           NaN        NaN          2.0 2018-06-07 16:27:25  ...   \n",
      "1           NaN        NaN          NaN                 NaT  ...   \n",
      "2       taxable        NaN          2.0 2018-02-14 15:39:43  ...   \n",
      "3       taxable        NaN          2.0 2018-02-14 17:15:31  ...   \n",
      "4           NaN        NaN          2.0 2020-01-25 14:08:16  ...   \n",
      "...         ...        ...          ...                 ...  ...   \n",
      "1508        NaN        NaN          2.0 2019-03-28 15:25:14  ...   \n",
      "1509    taxable        NaN          2.0 2018-02-27 10:27:01  ...   \n",
      "1510    taxable        NaN          2.0 2019-03-28 10:59:43  ...   \n",
      "1511        NaN        NaN          2.0 2018-04-18 12:25:58  ...   \n",
      "1512        NaN        NaN          2.0 2018-03-01 14:12:39  ...   \n",
      "\n",
      "                                              post_name       post_modified  \\\n",
      "0                       chateau-du-couvent-pomerol-2017 2020-08-25 18:35:02   \n",
      "1                                                   NaN                 NaT   \n",
      "2                     pares-balta-penedes-indigena-2017 2020-08-20 15:35:02   \n",
      "3                        maurel-cabardes-tradition-2017 2020-08-05 18:05:03   \n",
      "4     domaine-de-la-monardiere-vacqueyras-les-vieill... 2020-08-21 11:35:02   \n",
      "...                                                 ...                 ...   \n",
      "1508                 montbourgeau-etoile-vin-jaune-2009 2019-12-30 10:30:01   \n",
      "1509  chermette-domaine-du-vissoux-brouilly-pierreux... 2020-08-01 09:35:02   \n",
      "1510     thevenet-quintaine-vire-clesse-la-bongran-2015 2020-08-14 10:45:02   \n",
      "1511         emile-boeckel-cremant-brut-blanc-de-blancs 2020-08-27 17:15:03   \n",
      "1512     champagne-mailly-grand-cru-blanc-de-pinot-noir 2020-08-26 18:05:02   \n",
      "\n",
      "       post_modified_gmt post_content_filtered post_parent  \\\n",
      "0    2020-08-25 16:35:02                   NaN         0.0   \n",
      "1                    NaT                   NaN         NaN   \n",
      "2    2020-08-20 13:35:02                   NaN         0.0   \n",
      "3    2020-08-05 16:05:03                   NaN         0.0   \n",
      "4    2020-08-21 09:35:02                   NaN         0.0   \n",
      "...                  ...                   ...         ...   \n",
      "1508 2019-12-30 09:30:01                   NaN         0.0   \n",
      "1509 2020-08-01 07:35:02                   NaN         0.0   \n",
      "1510 2020-08-14 08:45:02                   NaN         0.0   \n",
      "1511 2020-08-27 15:15:03                   NaN         0.0   \n",
      "1512 2020-08-26 16:05:02                   NaN         0.0   \n",
      "\n",
      "                                                   guid menu_order  \\\n",
      "0     https://www.bottle-neck.fr/wp-content/uploads/...        0.0   \n",
      "1                                                   NaN        NaN   \n",
      "2     https://www.bottle-neck.fr/?post_type=product&...        0.0   \n",
      "3     https://www.bottle-neck.fr/?post_type=product&...        0.0   \n",
      "4     https://www.bottle-neck.fr/wp-content/uploads/...        0.0   \n",
      "...                                                 ...        ...   \n",
      "1508  https://www.bottle-neck.fr/wp-content/uploads/...        0.0   \n",
      "1509  https://www.bottle-neck.fr/?post_type=product&...        0.0   \n",
      "1510  https://www.bottle-neck.fr/?post_type=product&...        0.0   \n",
      "1511  https://www.bottle-neck.fr/wp-content/uploads/...        0.0   \n",
      "1512  https://www.bottle-neck.fr/wp-content/uploads/...        0.0   \n",
      "\n",
      "       post_type post_mime_type comment_count  \n",
      "0     attachment     image/jpeg           0.0  \n",
      "1            NaN            NaN           NaN  \n",
      "2        product            NaN           0.0  \n",
      "3        product            NaN           0.0  \n",
      "4     attachment     image/jpeg           0.0  \n",
      "...          ...            ...           ...  \n",
      "1508  attachment     image/jpeg           0.0  \n",
      "1509     product            NaN           0.0  \n",
      "1510     product            NaN           0.0  \n",
      "1511  attachment     image/jpeg           0.0  \n",
      "1512  attachment     image/jpeg           0.0  \n",
      "\n",
      "[1431 rows x 28 columns]\n"
     ]
    }
   ],
   "source": [
    "web_unique = web.drop_duplicates()\n",
    "\n",
    "# Print the cleaned DataFrame\n",
    "print(web_unique)"
   ]
  },
  {
   "cell_type": "code",
   "execution_count": 218,
   "metadata": {},
   "outputs": [
    {
     "name": "stdout",
     "output_type": "stream",
     "text": [
      "sku                         3\n",
      "virtual                     0\n",
      "downloadable                0\n",
      "rating_count                0\n",
      "average_rating              1\n",
      "total_sales                 1\n",
      "tax_status                715\n",
      "tax_class                1431\n",
      "post_author                 1\n",
      "post_date                   1\n",
      "post_date_gmt               1\n",
      "post_content             1431\n",
      "post_title                  1\n",
      "post_excerpt              715\n",
      "post_status                 1\n",
      "comment_status              1\n",
      "ping_status                 1\n",
      "post_password            1431\n",
      "post_name                   1\n",
      "post_modified               1\n",
      "post_modified_gmt           1\n",
      "post_content_filtered    1431\n",
      "post_parent                 1\n",
      "guid                        1\n",
      "menu_order                  1\n",
      "post_type                   1\n",
      "post_mime_type            717\n",
      "comment_count               1\n",
      "dtype: int64\n"
     ]
    }
   ],
   "source": [
    "null_count_web = web_unique.isna().sum()\n",
    "print(null_count_web)"
   ]
  },
  {
   "cell_type": "code",
   "execution_count": 219,
   "metadata": {},
   "outputs": [
    {
     "data": {
      "text/plain": [
       "<bound method NDFrame.describe of         sku  virtual  downloadable  rating_count  average_rating  total_sales  \\\n",
       "0     16004        0             0             0             0.0          5.0   \n",
       "1       NaN        0             0             0             NaN          NaN   \n",
       "2     15075        0             0             0             0.0          3.0   \n",
       "3     16209        0             0             0             0.0          6.0   \n",
       "4     15763        0             0             0             0.0          1.0   \n",
       "...     ...      ...           ...           ...             ...          ...   \n",
       "1508  12881        0             0             0             0.0          2.0   \n",
       "1509  15663        0             0             0             0.0          3.0   \n",
       "1510  15910        0             0             0             0.0          0.0   \n",
       "1511     38        0             0             0             0.0         38.0   \n",
       "1512  13599        0             0             0             0.0          1.0   \n",
       "\n",
       "     tax_status  post_author           post_date       post_date_gmt  ...  \\\n",
       "0           NaN          2.0 2018-06-07 16:27:25 2018-06-07 14:27:25  ...   \n",
       "1           NaN          NaN                 NaT                 NaT  ...   \n",
       "2       taxable          2.0 2018-02-14 15:39:43 2018-02-14 14:39:43  ...   \n",
       "3       taxable          2.0 2018-02-14 17:15:31 2018-02-14 16:15:31  ...   \n",
       "4           NaN          2.0 2020-01-25 14:08:16 2020-01-25 13:08:16  ...   \n",
       "...         ...          ...                 ...                 ...  ...   \n",
       "1508        NaN          2.0 2019-03-28 15:25:14 2019-03-28 14:25:14  ...   \n",
       "1509    taxable          2.0 2018-02-27 10:27:01 2018-02-27 09:27:01  ...   \n",
       "1510    taxable          2.0 2019-03-28 10:59:43 2019-03-28 09:59:43  ...   \n",
       "1511        NaN          2.0 2018-04-18 12:25:58 2018-04-18 10:25:58  ...   \n",
       "1512        NaN          2.0 2018-03-01 14:12:39 2018-03-01 13:12:39  ...   \n",
       "\n",
       "     ping_status                                          post_name  \\\n",
       "0         closed                    chateau-du-couvent-pomerol-2017   \n",
       "1            NaN                                                NaN   \n",
       "2         closed                  pares-balta-penedes-indigena-2017   \n",
       "3         closed                     maurel-cabardes-tradition-2017   \n",
       "4         closed  domaine-de-la-monardiere-vacqueyras-les-vieill...   \n",
       "...          ...                                                ...   \n",
       "1508      closed                 montbourgeau-etoile-vin-jaune-2009   \n",
       "1509      closed  chermette-domaine-du-vissoux-brouilly-pierreux...   \n",
       "1510      closed     thevenet-quintaine-vire-clesse-la-bongran-2015   \n",
       "1511      closed         emile-boeckel-cremant-brut-blanc-de-blancs   \n",
       "1512      closed     champagne-mailly-grand-cru-blanc-de-pinot-noir   \n",
       "\n",
       "           post_modified   post_modified_gmt post_parent  \\\n",
       "0    2020-08-25 18:35:02 2020-08-25 16:35:02         0.0   \n",
       "1                    NaT                 NaT         NaN   \n",
       "2    2020-08-20 15:35:02 2020-08-20 13:35:02         0.0   \n",
       "3    2020-08-05 18:05:03 2020-08-05 16:05:03         0.0   \n",
       "4    2020-08-21 11:35:02 2020-08-21 09:35:02         0.0   \n",
       "...                  ...                 ...         ...   \n",
       "1508 2019-12-30 10:30:01 2019-12-30 09:30:01         0.0   \n",
       "1509 2020-08-01 09:35:02 2020-08-01 07:35:02         0.0   \n",
       "1510 2020-08-14 10:45:02 2020-08-14 08:45:02         0.0   \n",
       "1511 2020-08-27 17:15:03 2020-08-27 15:15:03         0.0   \n",
       "1512 2020-08-26 18:05:02 2020-08-26 16:05:02         0.0   \n",
       "\n",
       "                                                   guid menu_order  \\\n",
       "0     https://www.bottle-neck.fr/wp-content/uploads/...        0.0   \n",
       "1                                                   NaN        NaN   \n",
       "2     https://www.bottle-neck.fr/?post_type=product&...        0.0   \n",
       "3     https://www.bottle-neck.fr/?post_type=product&...        0.0   \n",
       "4     https://www.bottle-neck.fr/wp-content/uploads/...        0.0   \n",
       "...                                                 ...        ...   \n",
       "1508  https://www.bottle-neck.fr/wp-content/uploads/...        0.0   \n",
       "1509  https://www.bottle-neck.fr/?post_type=product&...        0.0   \n",
       "1510  https://www.bottle-neck.fr/?post_type=product&...        0.0   \n",
       "1511  https://www.bottle-neck.fr/wp-content/uploads/...        0.0   \n",
       "1512  https://www.bottle-neck.fr/wp-content/uploads/...        0.0   \n",
       "\n",
       "       post_type  post_mime_type comment_count  \n",
       "0     attachment      image/jpeg           0.0  \n",
       "1            NaN             NaN           NaN  \n",
       "2        product             NaN           0.0  \n",
       "3        product             NaN           0.0  \n",
       "4     attachment      image/jpeg           0.0  \n",
       "...          ...             ...           ...  \n",
       "1508  attachment      image/jpeg           0.0  \n",
       "1509     product             NaN           0.0  \n",
       "1510     product             NaN           0.0  \n",
       "1511  attachment      image/jpeg           0.0  \n",
       "1512  attachment      image/jpeg           0.0  \n",
       "\n",
       "[1431 rows x 24 columns]>"
      ]
     },
     "execution_count": 219,
     "metadata": {},
     "output_type": "execute_result"
    }
   ],
   "source": [
    "web_notnullcolumns = web_unique.dropna(axis=1, how='all')\n",
    "\n",
    "web_notnullcolumns.describe"
   ]
  },
  {
   "cell_type": "markdown",
   "metadata": {},
   "source": [
    "<font color='red'>CONCLUSION: Nous avons decider egalement d'enlever les colonnes où il n'y a aucun information dans aucune cellul pour car ces colonnes n'apportent rien à notre analyse </font>"
   ]
  },
  {
   "cell_type": "code",
   "execution_count": 220,
   "metadata": {},
   "outputs": [
    {
     "name": "stdout",
     "output_type": "stream",
     "text": [
      "La clé est présente plusieurs fois dans le dataframe.\n",
      "Elle ne peut donc pas être utilisée comme clé primaire.\n"
     ]
    }
   ],
   "source": [
    "#avec le df sans les colonnes totalement null et les lignes totalement null, nous allons maintenant cherches \n",
    "#les nulls et les duplicates dans le colonnes \"sku\" que nous avons detecté en tant que clé primaire\n",
    "if web_notnullcolumns.size == web_notnullcolumns.drop_duplicates(\"sku\").size :\n",
    "        print(\"La clé n'est pas présente plusieurs fois dans le dataframe.\")\n",
    "        print(\"Elle peut donc être utilisée comme clé primaire.\".format(\"sku\"))\n",
    "else :\n",
    "        print(\"La clé est présente plusieurs fois dans le dataframe.\")\n",
    "        print(\"Elle ne peut donc pas être utilisée comme clé primaire.\".format(\"sku\"))"
   ]
  },
  {
   "cell_type": "code",
   "execution_count": 221,
   "metadata": {},
   "outputs": [
    {
     "data": {
      "text/html": [
       "<div>\n",
       "<style scoped>\n",
       "    .dataframe tbody tr th:only-of-type {\n",
       "        vertical-align: middle;\n",
       "    }\n",
       "\n",
       "    .dataframe tbody tr th {\n",
       "        vertical-align: top;\n",
       "    }\n",
       "\n",
       "    .dataframe thead th {\n",
       "        text-align: right;\n",
       "    }\n",
       "</style>\n",
       "<table border=\"1\" class=\"dataframe\">\n",
       "  <thead>\n",
       "    <tr style=\"text-align: right;\">\n",
       "      <th></th>\n",
       "      <th>sku</th>\n",
       "      <th>virtual</th>\n",
       "      <th>downloadable</th>\n",
       "      <th>rating_count</th>\n",
       "      <th>average_rating</th>\n",
       "      <th>total_sales</th>\n",
       "      <th>tax_status</th>\n",
       "      <th>post_author</th>\n",
       "      <th>post_date</th>\n",
       "      <th>post_date_gmt</th>\n",
       "      <th>...</th>\n",
       "      <th>ping_status</th>\n",
       "      <th>post_name</th>\n",
       "      <th>post_modified</th>\n",
       "      <th>post_modified_gmt</th>\n",
       "      <th>post_parent</th>\n",
       "      <th>guid</th>\n",
       "      <th>menu_order</th>\n",
       "      <th>post_type</th>\n",
       "      <th>post_mime_type</th>\n",
       "      <th>comment_count</th>\n",
       "    </tr>\n",
       "  </thead>\n",
       "  <tbody>\n",
       "    <tr>\n",
       "      <th>1</th>\n",
       "      <td>NaN</td>\n",
       "      <td>0</td>\n",
       "      <td>0</td>\n",
       "      <td>0</td>\n",
       "      <td>NaN</td>\n",
       "      <td>NaN</td>\n",
       "      <td>NaN</td>\n",
       "      <td>NaN</td>\n",
       "      <td>NaT</td>\n",
       "      <td>NaT</td>\n",
       "      <td>...</td>\n",
       "      <td>NaN</td>\n",
       "      <td>NaN</td>\n",
       "      <td>NaT</td>\n",
       "      <td>NaT</td>\n",
       "      <td>NaN</td>\n",
       "      <td>NaN</td>\n",
       "      <td>NaN</td>\n",
       "      <td>NaN</td>\n",
       "      <td>NaN</td>\n",
       "      <td>NaN</td>\n",
       "    </tr>\n",
       "    <tr>\n",
       "      <th>353</th>\n",
       "      <td>NaN</td>\n",
       "      <td>0</td>\n",
       "      <td>0</td>\n",
       "      <td>0</td>\n",
       "      <td>0.0</td>\n",
       "      <td>3.0</td>\n",
       "      <td>taxable</td>\n",
       "      <td>2.0</td>\n",
       "      <td>2018-08-08 11:23:43</td>\n",
       "      <td>2018-08-08 09:23:43</td>\n",
       "      <td>...</td>\n",
       "      <td>closed</td>\n",
       "      <td>pierre-jean-villa-condrieu-suspendu-2018</td>\n",
       "      <td>2019-11-02 13:24:01</td>\n",
       "      <td>2019-11-02 12:24:01</td>\n",
       "      <td>0.0</td>\n",
       "      <td>https://www.bottle-neck.fr/?post_type=product&amp;...</td>\n",
       "      <td>0.0</td>\n",
       "      <td>product</td>\n",
       "      <td>NaN</td>\n",
       "      <td>0.0</td>\n",
       "    </tr>\n",
       "    <tr>\n",
       "      <th>488</th>\n",
       "      <td>NaN</td>\n",
       "      <td>0</td>\n",
       "      <td>0</td>\n",
       "      <td>0</td>\n",
       "      <td>0.0</td>\n",
       "      <td>10.0</td>\n",
       "      <td>taxable</td>\n",
       "      <td>2.0</td>\n",
       "      <td>2018-07-31 12:07:23</td>\n",
       "      <td>2018-07-31 10:07:23</td>\n",
       "      <td>...</td>\n",
       "      <td>closed</td>\n",
       "      <td>pierre-jean-villa-cote-rotie-fongeant-2017</td>\n",
       "      <td>2019-11-02 13:24:15</td>\n",
       "      <td>2019-11-02 12:24:15</td>\n",
       "      <td>0.0</td>\n",
       "      <td>https://www.bottle-neck.fr/?post_type=product&amp;...</td>\n",
       "      <td>0.0</td>\n",
       "      <td>product</td>\n",
       "      <td>NaN</td>\n",
       "      <td>0.0</td>\n",
       "    </tr>\n",
       "  </tbody>\n",
       "</table>\n",
       "<p>3 rows × 24 columns</p>\n",
       "</div>"
      ],
      "text/plain": [
       "     sku  virtual  downloadable  rating_count  average_rating  total_sales  \\\n",
       "1    NaN        0             0             0             NaN          NaN   \n",
       "353  NaN        0             0             0             0.0          3.0   \n",
       "488  NaN        0             0             0             0.0         10.0   \n",
       "\n",
       "    tax_status  post_author           post_date       post_date_gmt  ...  \\\n",
       "1          NaN          NaN                 NaT                 NaT  ...   \n",
       "353    taxable          2.0 2018-08-08 11:23:43 2018-08-08 09:23:43  ...   \n",
       "488    taxable          2.0 2018-07-31 12:07:23 2018-07-31 10:07:23  ...   \n",
       "\n",
       "    ping_status                                   post_name  \\\n",
       "1           NaN                                         NaN   \n",
       "353      closed    pierre-jean-villa-condrieu-suspendu-2018   \n",
       "488      closed  pierre-jean-villa-cote-rotie-fongeant-2017   \n",
       "\n",
       "          post_modified   post_modified_gmt post_parent  \\\n",
       "1                   NaT                 NaT         NaN   \n",
       "353 2019-11-02 13:24:01 2019-11-02 12:24:01         0.0   \n",
       "488 2019-11-02 13:24:15 2019-11-02 12:24:15         0.0   \n",
       "\n",
       "                                                  guid menu_order post_type  \\\n",
       "1                                                  NaN        NaN       NaN   \n",
       "353  https://www.bottle-neck.fr/?post_type=product&...        0.0   product   \n",
       "488  https://www.bottle-neck.fr/?post_type=product&...        0.0   product   \n",
       "\n",
       "     post_mime_type comment_count  \n",
       "1               NaN           NaN  \n",
       "353             NaN           0.0  \n",
       "488             NaN           0.0  \n",
       "\n",
       "[3 rows x 24 columns]"
      ]
     },
     "execution_count": 221,
     "metadata": {},
     "output_type": "execute_result"
    }
   ],
   "source": [
    "rows_with_nan_sku = web_notnullcolumns[web_notnullcolumns['sku'].isna()]\n",
    "\n",
    "\n",
    "rows_with_nan_sku.head()"
   ]
  },
  {
   "cell_type": "markdown",
   "metadata": {},
   "source": [
    "<font color='red'>CONCLUSION: ATTENTION: ici nous pouvons remarquer que les lignes avec index 353 et 488 ils ont null value pour le clé primaire mais il s'agit bien des produits qui etaient vendu plusiers fois. Nous recomandons à faire une recherche sur ces 2 lignes. NEANMOINS pour notre analyse nous allons pas prendres en compte les nulls \"sku\" </font>"
   ]
  },
  {
   "cell_type": "code",
   "execution_count": 222,
   "metadata": {},
   "outputs": [
    {
     "name": "stdout",
     "output_type": "stream",
     "text": [
      "        sku  virtual  downloadable  rating_count  average_rating  total_sales  \\\n",
      "0     16004        0             0             0             0.0          5.0   \n",
      "2     15075        0             0             0             0.0          3.0   \n",
      "3     16209        0             0             0             0.0          6.0   \n",
      "4     15763        0             0             0             0.0          1.0   \n",
      "5     13895        0             0             0             0.0          0.0   \n",
      "...     ...      ...           ...           ...             ...          ...   \n",
      "1508  12881        0             0             0             0.0          2.0   \n",
      "1509  15663        0             0             0             0.0          3.0   \n",
      "1510  15910        0             0             0             0.0          0.0   \n",
      "1511     38        0             0             0             0.0         38.0   \n",
      "1512  13599        0             0             0             0.0          1.0   \n",
      "\n",
      "     tax_status  post_author           post_date       post_date_gmt  ...  \\\n",
      "0           NaN          2.0 2018-06-07 16:27:25 2018-06-07 14:27:25  ...   \n",
      "2       taxable          2.0 2018-02-14 15:39:43 2018-02-14 14:39:43  ...   \n",
      "3       taxable          2.0 2018-02-14 17:15:31 2018-02-14 16:15:31  ...   \n",
      "4           NaN          2.0 2020-01-25 14:08:16 2020-01-25 13:08:16  ...   \n",
      "5       taxable          2.0 2019-03-19 10:41:50 2019-03-19 09:41:50  ...   \n",
      "...         ...          ...                 ...                 ...  ...   \n",
      "1508        NaN          2.0 2019-03-28 15:25:14 2019-03-28 14:25:14  ...   \n",
      "1509    taxable          2.0 2018-02-27 10:27:01 2018-02-27 09:27:01  ...   \n",
      "1510    taxable          2.0 2019-03-28 10:59:43 2019-03-28 09:59:43  ...   \n",
      "1511        NaN          2.0 2018-04-18 12:25:58 2018-04-18 10:25:58  ...   \n",
      "1512        NaN          2.0 2018-03-01 14:12:39 2018-03-01 13:12:39  ...   \n",
      "\n",
      "     ping_status                                          post_name  \\\n",
      "0         closed                    chateau-du-couvent-pomerol-2017   \n",
      "2         closed                  pares-balta-penedes-indigena-2017   \n",
      "3         closed                     maurel-cabardes-tradition-2017   \n",
      "4         closed  domaine-de-la-monardiere-vacqueyras-les-vieill...   \n",
      "5         closed         chateau-saransot-dupre-bordeaux-blanc-2016   \n",
      "...          ...                                                ...   \n",
      "1508      closed                 montbourgeau-etoile-vin-jaune-2009   \n",
      "1509      closed  chermette-domaine-du-vissoux-brouilly-pierreux...   \n",
      "1510      closed     thevenet-quintaine-vire-clesse-la-bongran-2015   \n",
      "1511      closed         emile-boeckel-cremant-brut-blanc-de-blancs   \n",
      "1512      closed     champagne-mailly-grand-cru-blanc-de-pinot-noir   \n",
      "\n",
      "           post_modified   post_modified_gmt post_parent  \\\n",
      "0    2020-08-25 18:35:02 2020-08-25 16:35:02         0.0   \n",
      "2    2020-08-20 15:35:02 2020-08-20 13:35:02         0.0   \n",
      "3    2020-08-05 18:05:03 2020-08-05 16:05:03         0.0   \n",
      "4    2020-08-21 11:35:02 2020-08-21 09:35:02         0.0   \n",
      "5    2020-04-25 21:11:40 2020-04-25 19:11:40         0.0   \n",
      "...                  ...                 ...         ...   \n",
      "1508 2019-12-30 10:30:01 2019-12-30 09:30:01         0.0   \n",
      "1509 2020-08-01 09:35:02 2020-08-01 07:35:02         0.0   \n",
      "1510 2020-08-14 10:45:02 2020-08-14 08:45:02         0.0   \n",
      "1511 2020-08-27 17:15:03 2020-08-27 15:15:03         0.0   \n",
      "1512 2020-08-26 18:05:02 2020-08-26 16:05:02         0.0   \n",
      "\n",
      "                                                   guid menu_order  \\\n",
      "0     https://www.bottle-neck.fr/wp-content/uploads/...        0.0   \n",
      "2     https://www.bottle-neck.fr/?post_type=product&...        0.0   \n",
      "3     https://www.bottle-neck.fr/?post_type=product&...        0.0   \n",
      "4     https://www.bottle-neck.fr/wp-content/uploads/...        0.0   \n",
      "5     https://www.bottle-neck.fr/?post_type=product&...        0.0   \n",
      "...                                                 ...        ...   \n",
      "1508  https://www.bottle-neck.fr/wp-content/uploads/...        0.0   \n",
      "1509  https://www.bottle-neck.fr/?post_type=product&...        0.0   \n",
      "1510  https://www.bottle-neck.fr/?post_type=product&...        0.0   \n",
      "1511  https://www.bottle-neck.fr/wp-content/uploads/...        0.0   \n",
      "1512  https://www.bottle-neck.fr/wp-content/uploads/...        0.0   \n",
      "\n",
      "       post_type  post_mime_type comment_count  \n",
      "0     attachment      image/jpeg           0.0  \n",
      "2        product             NaN           0.0  \n",
      "3        product             NaN           0.0  \n",
      "4     attachment      image/jpeg           0.0  \n",
      "5        product             NaN           0.0  \n",
      "...          ...             ...           ...  \n",
      "1508  attachment      image/jpeg           0.0  \n",
      "1509     product             NaN           0.0  \n",
      "1510     product             NaN           0.0  \n",
      "1511  attachment      image/jpeg           0.0  \n",
      "1512  attachment      image/jpeg           0.0  \n",
      "\n",
      "[1428 rows x 24 columns]\n"
     ]
    }
   ],
   "source": [
    "\n",
    "web_with_nan_sku_not_null = web_notnullcolumns[web_notnullcolumns['sku'].notna()]\n",
    "\n",
    "print(web_with_nan_sku_not_null)"
   ]
  },
  {
   "cell_type": "markdown",
   "metadata": {},
   "source": [
    "<font color='orange'>NB:C'est le df web_with_nan_sku_not_null qui sera retenue et dans lequel nous allons chercher mainenant les duplicates dans le \"sku\" mais tout d'abord nous allons renomer ce fichier en web2, car pour nous c'est une version 2 et nous allons changer le nom de la colonne, \"sku\" en \"web_id\" car ils s'agit de la meme information.</font>"
   ]
  },
  {
   "cell_type": "code",
   "execution_count": 223,
   "metadata": {},
   "outputs": [],
   "source": [
    "web2=web_with_nan_sku_not_null"
   ]
  },
  {
   "cell_type": "code",
   "execution_count": 224,
   "metadata": {},
   "outputs": [
    {
     "name": "stderr",
     "output_type": "stream",
     "text": [
      "C:\\Users\\cokre\\AppData\\Local\\Temp\\ipykernel_122336\\2891530052.py:1: SettingWithCopyWarning: \n",
      "A value is trying to be set on a copy of a slice from a DataFrame\n",
      "\n",
      "See the caveats in the documentation: https://pandas.pydata.org/pandas-docs/stable/user_guide/indexing.html#returning-a-view-versus-a-copy\n",
      "  web2.rename(columns={'sku': 'id_web'}, inplace=True)\n"
     ]
    }
   ],
   "source": [
    "\n",
    "\n",
    "web2.rename(columns={'sku': 'id_web'}, inplace=True)"
   ]
  },
  {
   "cell_type": "code",
   "execution_count": 225,
   "metadata": {},
   "outputs": [
    {
     "name": "stdout",
     "output_type": "stream",
     "text": [
      "     id_web  virtual  downloadable  rating_count  average_rating  total_sales  \\\n",
      "0     16004        0             0             0             0.0          5.0   \n",
      "2     15075        0             0             0             0.0          3.0   \n",
      "3     16209        0             0             0             0.0          6.0   \n",
      "4     15763        0             0             0             0.0          1.0   \n",
      "5     13895        0             0             0             0.0          0.0   \n",
      "...     ...      ...           ...           ...             ...          ...   \n",
      "1508  12881        0             0             0             0.0          2.0   \n",
      "1509  15663        0             0             0             0.0          3.0   \n",
      "1510  15910        0             0             0             0.0          0.0   \n",
      "1511     38        0             0             0             0.0         38.0   \n",
      "1512  13599        0             0             0             0.0          1.0   \n",
      "\n",
      "     tax_status  post_author           post_date       post_date_gmt  ...  \\\n",
      "0           NaN          2.0 2018-06-07 16:27:25 2018-06-07 14:27:25  ...   \n",
      "2       taxable          2.0 2018-02-14 15:39:43 2018-02-14 14:39:43  ...   \n",
      "3       taxable          2.0 2018-02-14 17:15:31 2018-02-14 16:15:31  ...   \n",
      "4           NaN          2.0 2020-01-25 14:08:16 2020-01-25 13:08:16  ...   \n",
      "5       taxable          2.0 2019-03-19 10:41:50 2019-03-19 09:41:50  ...   \n",
      "...         ...          ...                 ...                 ...  ...   \n",
      "1508        NaN          2.0 2019-03-28 15:25:14 2019-03-28 14:25:14  ...   \n",
      "1509    taxable          2.0 2018-02-27 10:27:01 2018-02-27 09:27:01  ...   \n",
      "1510    taxable          2.0 2019-03-28 10:59:43 2019-03-28 09:59:43  ...   \n",
      "1511        NaN          2.0 2018-04-18 12:25:58 2018-04-18 10:25:58  ...   \n",
      "1512        NaN          2.0 2018-03-01 14:12:39 2018-03-01 13:12:39  ...   \n",
      "\n",
      "     ping_status                                          post_name  \\\n",
      "0         closed                    chateau-du-couvent-pomerol-2017   \n",
      "2         closed                  pares-balta-penedes-indigena-2017   \n",
      "3         closed                     maurel-cabardes-tradition-2017   \n",
      "4         closed  domaine-de-la-monardiere-vacqueyras-les-vieill...   \n",
      "5         closed         chateau-saransot-dupre-bordeaux-blanc-2016   \n",
      "...          ...                                                ...   \n",
      "1508      closed                 montbourgeau-etoile-vin-jaune-2009   \n",
      "1509      closed  chermette-domaine-du-vissoux-brouilly-pierreux...   \n",
      "1510      closed     thevenet-quintaine-vire-clesse-la-bongran-2015   \n",
      "1511      closed         emile-boeckel-cremant-brut-blanc-de-blancs   \n",
      "1512      closed     champagne-mailly-grand-cru-blanc-de-pinot-noir   \n",
      "\n",
      "           post_modified   post_modified_gmt post_parent  \\\n",
      "0    2020-08-25 18:35:02 2020-08-25 16:35:02         0.0   \n",
      "2    2020-08-20 15:35:02 2020-08-20 13:35:02         0.0   \n",
      "3    2020-08-05 18:05:03 2020-08-05 16:05:03         0.0   \n",
      "4    2020-08-21 11:35:02 2020-08-21 09:35:02         0.0   \n",
      "5    2020-04-25 21:11:40 2020-04-25 19:11:40         0.0   \n",
      "...                  ...                 ...         ...   \n",
      "1508 2019-12-30 10:30:01 2019-12-30 09:30:01         0.0   \n",
      "1509 2020-08-01 09:35:02 2020-08-01 07:35:02         0.0   \n",
      "1510 2020-08-14 10:45:02 2020-08-14 08:45:02         0.0   \n",
      "1511 2020-08-27 17:15:03 2020-08-27 15:15:03         0.0   \n",
      "1512 2020-08-26 18:05:02 2020-08-26 16:05:02         0.0   \n",
      "\n",
      "                                                   guid menu_order  \\\n",
      "0     https://www.bottle-neck.fr/wp-content/uploads/...        0.0   \n",
      "2     https://www.bottle-neck.fr/?post_type=product&...        0.0   \n",
      "3     https://www.bottle-neck.fr/?post_type=product&...        0.0   \n",
      "4     https://www.bottle-neck.fr/wp-content/uploads/...        0.0   \n",
      "5     https://www.bottle-neck.fr/?post_type=product&...        0.0   \n",
      "...                                                 ...        ...   \n",
      "1508  https://www.bottle-neck.fr/wp-content/uploads/...        0.0   \n",
      "1509  https://www.bottle-neck.fr/?post_type=product&...        0.0   \n",
      "1510  https://www.bottle-neck.fr/?post_type=product&...        0.0   \n",
      "1511  https://www.bottle-neck.fr/wp-content/uploads/...        0.0   \n",
      "1512  https://www.bottle-neck.fr/wp-content/uploads/...        0.0   \n",
      "\n",
      "       post_type  post_mime_type comment_count  \n",
      "0     attachment      image/jpeg           0.0  \n",
      "2        product             NaN           0.0  \n",
      "3        product             NaN           0.0  \n",
      "4     attachment      image/jpeg           0.0  \n",
      "5        product             NaN           0.0  \n",
      "...          ...             ...           ...  \n",
      "1508  attachment      image/jpeg           0.0  \n",
      "1509     product             NaN           0.0  \n",
      "1510     product             NaN           0.0  \n",
      "1511  attachment      image/jpeg           0.0  \n",
      "1512  attachment      image/jpeg           0.0  \n",
      "\n",
      "[1428 rows x 24 columns]\n"
     ]
    }
   ],
   "source": [
    "duplicate_rows = web2[web2.duplicated(subset=['id_web'], keep=False)]\n",
    "\n",
    "# Filter the DataFrame to show both versions\n",
    "duplicates_with_original = web2[web2.duplicated(subset=['id_web'], keep=False)]\n",
    "\n",
    "# Print the DataFrame with both versions\n",
    "print(duplicates_with_original)"
   ]
  },
  {
   "cell_type": "markdown",
   "metadata": {},
   "source": [
    "<font color='orange'>NB:Nous allons esseyer de visualiser les duplicates ensemble avec leur original pour avoir plus d'informations et voir comment proceder avec . Pour ceci nous alons faire une triage.</font>"
   ]
  },
  {
   "cell_type": "code",
   "execution_count": 226,
   "metadata": {},
   "outputs": [
    {
     "data": {
      "text/html": [
       "<div>\n",
       "<style scoped>\n",
       "    .dataframe tbody tr th:only-of-type {\n",
       "        vertical-align: middle;\n",
       "    }\n",
       "\n",
       "    .dataframe tbody tr th {\n",
       "        vertical-align: top;\n",
       "    }\n",
       "\n",
       "    .dataframe thead th {\n",
       "        text-align: right;\n",
       "    }\n",
       "</style>\n",
       "<table border=\"1\" class=\"dataframe\">\n",
       "  <thead>\n",
       "    <tr style=\"text-align: right;\">\n",
       "      <th></th>\n",
       "      <th>id_web</th>\n",
       "      <th>virtual</th>\n",
       "      <th>downloadable</th>\n",
       "      <th>rating_count</th>\n",
       "      <th>average_rating</th>\n",
       "      <th>total_sales</th>\n",
       "      <th>tax_status</th>\n",
       "      <th>post_author</th>\n",
       "      <th>post_date</th>\n",
       "      <th>post_date_gmt</th>\n",
       "      <th>...</th>\n",
       "      <th>ping_status</th>\n",
       "      <th>post_name</th>\n",
       "      <th>post_modified</th>\n",
       "      <th>post_modified_gmt</th>\n",
       "      <th>post_parent</th>\n",
       "      <th>guid</th>\n",
       "      <th>menu_order</th>\n",
       "      <th>post_type</th>\n",
       "      <th>post_mime_type</th>\n",
       "      <th>comment_count</th>\n",
       "    </tr>\n",
       "  </thead>\n",
       "  <tbody>\n",
       "    <tr>\n",
       "      <th>541</th>\n",
       "      <td>10014</td>\n",
       "      <td>0</td>\n",
       "      <td>0</td>\n",
       "      <td>0</td>\n",
       "      <td>0.0</td>\n",
       "      <td>0.0</td>\n",
       "      <td>NaN</td>\n",
       "      <td>2.0</td>\n",
       "      <td>2019-04-04 15:45:23</td>\n",
       "      <td>2019-04-04 13:45:23</td>\n",
       "      <td>...</td>\n",
       "      <td>closed</td>\n",
       "      <td>darnleys-london-dry-gin-original</td>\n",
       "      <td>2020-08-26 15:55:02</td>\n",
       "      <td>2020-08-26 13:55:02</td>\n",
       "      <td>0.0</td>\n",
       "      <td>https://www.bottle-neck.fr/wp-content/uploads/...</td>\n",
       "      <td>0.0</td>\n",
       "      <td>attachment</td>\n",
       "      <td>image/jpeg</td>\n",
       "      <td>0.0</td>\n",
       "    </tr>\n",
       "    <tr>\n",
       "      <th>955</th>\n",
       "      <td>10014</td>\n",
       "      <td>0</td>\n",
       "      <td>0</td>\n",
       "      <td>0</td>\n",
       "      <td>0.0</td>\n",
       "      <td>0.0</td>\n",
       "      <td>taxable</td>\n",
       "      <td>2.0</td>\n",
       "      <td>2019-04-04 15:45:23</td>\n",
       "      <td>2019-04-04 13:45:23</td>\n",
       "      <td>...</td>\n",
       "      <td>closed</td>\n",
       "      <td>darnleys-london-dry-gin-original</td>\n",
       "      <td>2020-08-26 15:55:02</td>\n",
       "      <td>2020-08-26 13:55:02</td>\n",
       "      <td>0.0</td>\n",
       "      <td>https://www.bottle-neck.fr/?post_type=product&amp;...</td>\n",
       "      <td>0.0</td>\n",
       "      <td>product</td>\n",
       "      <td>NaN</td>\n",
       "      <td>0.0</td>\n",
       "    </tr>\n",
       "    <tr>\n",
       "      <th>1503</th>\n",
       "      <td>10459</td>\n",
       "      <td>0</td>\n",
       "      <td>0</td>\n",
       "      <td>0</td>\n",
       "      <td>0.0</td>\n",
       "      <td>0.0</td>\n",
       "      <td>taxable</td>\n",
       "      <td>2.0</td>\n",
       "      <td>2018-04-13 15:58:19</td>\n",
       "      <td>2018-04-13 13:58:19</td>\n",
       "      <td>...</td>\n",
       "      <td>closed</td>\n",
       "      <td>alphonse-mellot-sancerre-rouge-generation-xix-...</td>\n",
       "      <td>2020-08-24 14:05:02</td>\n",
       "      <td>2020-08-24 12:05:02</td>\n",
       "      <td>0.0</td>\n",
       "      <td>https://www.bottle-neck.fr/?post_type=product&amp;...</td>\n",
       "      <td>0.0</td>\n",
       "      <td>product</td>\n",
       "      <td>NaN</td>\n",
       "      <td>0.0</td>\n",
       "    </tr>\n",
       "    <tr>\n",
       "      <th>1230</th>\n",
       "      <td>10459</td>\n",
       "      <td>0</td>\n",
       "      <td>0</td>\n",
       "      <td>0</td>\n",
       "      <td>0.0</td>\n",
       "      <td>0.0</td>\n",
       "      <td>NaN</td>\n",
       "      <td>2.0</td>\n",
       "      <td>2018-04-13 15:58:19</td>\n",
       "      <td>2018-04-13 13:58:19</td>\n",
       "      <td>...</td>\n",
       "      <td>closed</td>\n",
       "      <td>alphonse-mellot-sancerre-rouge-generation-xix-...</td>\n",
       "      <td>2020-08-24 14:05:02</td>\n",
       "      <td>2020-08-24 12:05:02</td>\n",
       "      <td>0.0</td>\n",
       "      <td>https://www.bottle-neck.fr/wp-content/uploads/...</td>\n",
       "      <td>0.0</td>\n",
       "      <td>attachment</td>\n",
       "      <td>image/jpeg</td>\n",
       "      <td>0.0</td>\n",
       "    </tr>\n",
       "    <tr>\n",
       "      <th>905</th>\n",
       "      <td>10775</td>\n",
       "      <td>0</td>\n",
       "      <td>0</td>\n",
       "      <td>0</td>\n",
       "      <td>0.0</td>\n",
       "      <td>0.0</td>\n",
       "      <td>NaN</td>\n",
       "      <td>2.0</td>\n",
       "      <td>2018-04-17 21:28:52</td>\n",
       "      <td>2018-04-17 19:28:52</td>\n",
       "      <td>...</td>\n",
       "      <td>closed</td>\n",
       "      <td>albert-mann-pinot-gris-vendanges-tardives-alte...</td>\n",
       "      <td>2018-12-22 10:30:02</td>\n",
       "      <td>2018-12-22 09:30:02</td>\n",
       "      <td>0.0</td>\n",
       "      <td>https://www.bottle-neck.fr/wp-content/uploads/...</td>\n",
       "      <td>0.0</td>\n",
       "      <td>attachment</td>\n",
       "      <td>image/jpeg</td>\n",
       "      <td>0.0</td>\n",
       "    </tr>\n",
       "    <tr>\n",
       "      <th>140</th>\n",
       "      <td>10775</td>\n",
       "      <td>0</td>\n",
       "      <td>0</td>\n",
       "      <td>0</td>\n",
       "      <td>0.0</td>\n",
       "      <td>0.0</td>\n",
       "      <td>taxable</td>\n",
       "      <td>2.0</td>\n",
       "      <td>2018-04-17 21:28:52</td>\n",
       "      <td>2018-04-17 19:28:52</td>\n",
       "      <td>...</td>\n",
       "      <td>closed</td>\n",
       "      <td>albert-mann-pinot-gris-vendanges-tardives-alte...</td>\n",
       "      <td>2018-12-22 10:30:02</td>\n",
       "      <td>2018-12-22 09:30:02</td>\n",
       "      <td>0.0</td>\n",
       "      <td>https://www.bottle-neck.fr/?post_type=product&amp;...</td>\n",
       "      <td>0.0</td>\n",
       "      <td>product</td>\n",
       "      <td>NaN</td>\n",
       "      <td>0.0</td>\n",
       "    </tr>\n",
       "    <tr>\n",
       "      <th>1466</th>\n",
       "      <td>10814</td>\n",
       "      <td>0</td>\n",
       "      <td>0</td>\n",
       "      <td>0</td>\n",
       "      <td>0.0</td>\n",
       "      <td>0.0</td>\n",
       "      <td>taxable</td>\n",
       "      <td>2.0</td>\n",
       "      <td>2018-04-17 10:12:40</td>\n",
       "      <td>2018-04-17 08:12:40</td>\n",
       "      <td>...</td>\n",
       "      <td>closed</td>\n",
       "      <td>thierry-germain-saumur-champigny-outre-terre-2013</td>\n",
       "      <td>2020-08-05 14:35:02</td>\n",
       "      <td>2020-08-05 12:35:02</td>\n",
       "      <td>0.0</td>\n",
       "      <td>https://www.bottle-neck.fr/?post_type=product&amp;...</td>\n",
       "      <td>0.0</td>\n",
       "      <td>product</td>\n",
       "      <td>NaN</td>\n",
       "      <td>0.0</td>\n",
       "    </tr>\n",
       "    <tr>\n",
       "      <th>1274</th>\n",
       "      <td>10814</td>\n",
       "      <td>0</td>\n",
       "      <td>0</td>\n",
       "      <td>0</td>\n",
       "      <td>0.0</td>\n",
       "      <td>0.0</td>\n",
       "      <td>NaN</td>\n",
       "      <td>2.0</td>\n",
       "      <td>2018-04-17 10:12:40</td>\n",
       "      <td>2018-04-17 08:12:40</td>\n",
       "      <td>...</td>\n",
       "      <td>closed</td>\n",
       "      <td>thierry-germain-saumur-champigny-outre-terre-2013</td>\n",
       "      <td>2020-08-05 14:35:02</td>\n",
       "      <td>2020-08-05 12:35:02</td>\n",
       "      <td>0.0</td>\n",
       "      <td>https://www.bottle-neck.fr/wp-content/uploads/...</td>\n",
       "      <td>0.0</td>\n",
       "      <td>attachment</td>\n",
       "      <td>image/jpeg</td>\n",
       "      <td>0.0</td>\n",
       "    </tr>\n",
       "    <tr>\n",
       "      <th>1325</th>\n",
       "      <td>11049</td>\n",
       "      <td>0</td>\n",
       "      <td>0</td>\n",
       "      <td>0</td>\n",
       "      <td>0.0</td>\n",
       "      <td>0.0</td>\n",
       "      <td>NaN</td>\n",
       "      <td>2.0</td>\n",
       "      <td>2018-04-13 16:07:49</td>\n",
       "      <td>2018-04-13 14:07:49</td>\n",
       "      <td>...</td>\n",
       "      <td>closed</td>\n",
       "      <td>alphonse-mellot-sancerre-rouge-en-grands-champ...</td>\n",
       "      <td>2020-01-31 09:30:02</td>\n",
       "      <td>2020-01-31 08:30:02</td>\n",
       "      <td>0.0</td>\n",
       "      <td>https://www.bottle-neck.fr/wp-content/uploads/...</td>\n",
       "      <td>0.0</td>\n",
       "      <td>attachment</td>\n",
       "      <td>image/jpeg</td>\n",
       "      <td>0.0</td>\n",
       "    </tr>\n",
       "    <tr>\n",
       "      <th>451</th>\n",
       "      <td>11049</td>\n",
       "      <td>0</td>\n",
       "      <td>0</td>\n",
       "      <td>0</td>\n",
       "      <td>0.0</td>\n",
       "      <td>0.0</td>\n",
       "      <td>taxable</td>\n",
       "      <td>2.0</td>\n",
       "      <td>2018-04-13 16:07:49</td>\n",
       "      <td>2018-04-13 14:07:49</td>\n",
       "      <td>...</td>\n",
       "      <td>closed</td>\n",
       "      <td>alphonse-mellot-sancerre-rouge-en-grands-champ...</td>\n",
       "      <td>2020-01-31 09:30:02</td>\n",
       "      <td>2020-01-31 08:30:02</td>\n",
       "      <td>0.0</td>\n",
       "      <td>https://www.bottle-neck.fr/?post_type=product&amp;...</td>\n",
       "      <td>0.0</td>\n",
       "      <td>product</td>\n",
       "      <td>NaN</td>\n",
       "      <td>0.0</td>\n",
       "    </tr>\n",
       "  </tbody>\n",
       "</table>\n",
       "<p>10 rows × 24 columns</p>\n",
       "</div>"
      ],
      "text/plain": [
       "     id_web  virtual  downloadable  rating_count  average_rating  total_sales  \\\n",
       "541   10014        0             0             0             0.0          0.0   \n",
       "955   10014        0             0             0             0.0          0.0   \n",
       "1503  10459        0             0             0             0.0          0.0   \n",
       "1230  10459        0             0             0             0.0          0.0   \n",
       "905   10775        0             0             0             0.0          0.0   \n",
       "140   10775        0             0             0             0.0          0.0   \n",
       "1466  10814        0             0             0             0.0          0.0   \n",
       "1274  10814        0             0             0             0.0          0.0   \n",
       "1325  11049        0             0             0             0.0          0.0   \n",
       "451   11049        0             0             0             0.0          0.0   \n",
       "\n",
       "     tax_status  post_author           post_date       post_date_gmt  ...  \\\n",
       "541         NaN          2.0 2019-04-04 15:45:23 2019-04-04 13:45:23  ...   \n",
       "955     taxable          2.0 2019-04-04 15:45:23 2019-04-04 13:45:23  ...   \n",
       "1503    taxable          2.0 2018-04-13 15:58:19 2018-04-13 13:58:19  ...   \n",
       "1230        NaN          2.0 2018-04-13 15:58:19 2018-04-13 13:58:19  ...   \n",
       "905         NaN          2.0 2018-04-17 21:28:52 2018-04-17 19:28:52  ...   \n",
       "140     taxable          2.0 2018-04-17 21:28:52 2018-04-17 19:28:52  ...   \n",
       "1466    taxable          2.0 2018-04-17 10:12:40 2018-04-17 08:12:40  ...   \n",
       "1274        NaN          2.0 2018-04-17 10:12:40 2018-04-17 08:12:40  ...   \n",
       "1325        NaN          2.0 2018-04-13 16:07:49 2018-04-13 14:07:49  ...   \n",
       "451     taxable          2.0 2018-04-13 16:07:49 2018-04-13 14:07:49  ...   \n",
       "\n",
       "     ping_status                                          post_name  \\\n",
       "541       closed                   darnleys-london-dry-gin-original   \n",
       "955       closed                   darnleys-london-dry-gin-original   \n",
       "1503      closed  alphonse-mellot-sancerre-rouge-generation-xix-...   \n",
       "1230      closed  alphonse-mellot-sancerre-rouge-generation-xix-...   \n",
       "905       closed  albert-mann-pinot-gris-vendanges-tardives-alte...   \n",
       "140       closed  albert-mann-pinot-gris-vendanges-tardives-alte...   \n",
       "1466      closed  thierry-germain-saumur-champigny-outre-terre-2013   \n",
       "1274      closed  thierry-germain-saumur-champigny-outre-terre-2013   \n",
       "1325      closed  alphonse-mellot-sancerre-rouge-en-grands-champ...   \n",
       "451       closed  alphonse-mellot-sancerre-rouge-en-grands-champ...   \n",
       "\n",
       "           post_modified   post_modified_gmt post_parent  \\\n",
       "541  2020-08-26 15:55:02 2020-08-26 13:55:02         0.0   \n",
       "955  2020-08-26 15:55:02 2020-08-26 13:55:02         0.0   \n",
       "1503 2020-08-24 14:05:02 2020-08-24 12:05:02         0.0   \n",
       "1230 2020-08-24 14:05:02 2020-08-24 12:05:02         0.0   \n",
       "905  2018-12-22 10:30:02 2018-12-22 09:30:02         0.0   \n",
       "140  2018-12-22 10:30:02 2018-12-22 09:30:02         0.0   \n",
       "1466 2020-08-05 14:35:02 2020-08-05 12:35:02         0.0   \n",
       "1274 2020-08-05 14:35:02 2020-08-05 12:35:02         0.0   \n",
       "1325 2020-01-31 09:30:02 2020-01-31 08:30:02         0.0   \n",
       "451  2020-01-31 09:30:02 2020-01-31 08:30:02         0.0   \n",
       "\n",
       "                                                   guid menu_order  \\\n",
       "541   https://www.bottle-neck.fr/wp-content/uploads/...        0.0   \n",
       "955   https://www.bottle-neck.fr/?post_type=product&...        0.0   \n",
       "1503  https://www.bottle-neck.fr/?post_type=product&...        0.0   \n",
       "1230  https://www.bottle-neck.fr/wp-content/uploads/...        0.0   \n",
       "905   https://www.bottle-neck.fr/wp-content/uploads/...        0.0   \n",
       "140   https://www.bottle-neck.fr/?post_type=product&...        0.0   \n",
       "1466  https://www.bottle-neck.fr/?post_type=product&...        0.0   \n",
       "1274  https://www.bottle-neck.fr/wp-content/uploads/...        0.0   \n",
       "1325  https://www.bottle-neck.fr/wp-content/uploads/...        0.0   \n",
       "451   https://www.bottle-neck.fr/?post_type=product&...        0.0   \n",
       "\n",
       "       post_type  post_mime_type comment_count  \n",
       "541   attachment      image/jpeg           0.0  \n",
       "955      product             NaN           0.0  \n",
       "1503     product             NaN           0.0  \n",
       "1230  attachment      image/jpeg           0.0  \n",
       "905   attachment      image/jpeg           0.0  \n",
       "140      product             NaN           0.0  \n",
       "1466     product             NaN           0.0  \n",
       "1274  attachment      image/jpeg           0.0  \n",
       "1325  attachment      image/jpeg           0.0  \n",
       "451      product             NaN           0.0  \n",
       "\n",
       "[10 rows x 24 columns]"
      ]
     },
     "execution_count": 226,
     "metadata": {},
     "output_type": "execute_result"
    }
   ],
   "source": [
    "\n",
    "sorted_web2 = web2.sort_values(by=['id_web'], key=lambda x: x.astype(str), na_position='first')\n",
    "\n",
    "# Print the sorted DataFrame\n",
    "sorted_web2.head(10)\n"
   ]
  },
  {
   "cell_type": "markdown",
   "metadata": {},
   "source": [
    "<font color='red'>CONCLUSION: Cette df nous montre qu'il semble que chaque \"web_id\" apparessent 2 fois et nous constatons que dans les paires de ce id il y a des petites differences dans certain colonnes: \"tax_status\" : taxable ou nan, \"post_excerpt\": lien ou nan, \"post type\": produit ou attachement.  \"post_mime_type\" nan ou image. Donc on va regarder encore les information denotre df </font>"
   ]
  },
  {
   "cell_type": "code",
   "execution_count": 227,
   "metadata": {},
   "outputs": [
    {
     "name": "stdout",
     "output_type": "stream",
     "text": [
      "<class 'pandas.core.frame.DataFrame'>\n",
      "Index: 1428 entries, 0 to 1512\n",
      "Data columns (total 24 columns):\n",
      " #   Column             Non-Null Count  Dtype         \n",
      "---  ------             --------------  -----         \n",
      " 0   id_web             1428 non-null   object        \n",
      " 1   virtual            1428 non-null   int64         \n",
      " 2   downloadable       1428 non-null   int64         \n",
      " 3   rating_count       1428 non-null   int64         \n",
      " 4   average_rating     1428 non-null   float64       \n",
      " 5   total_sales        1428 non-null   float64       \n",
      " 6   tax_status         714 non-null    object        \n",
      " 7   post_author        1428 non-null   float64       \n",
      " 8   post_date          1428 non-null   datetime64[ns]\n",
      " 9   post_date_gmt      1428 non-null   datetime64[ns]\n",
      " 10  post_title         1428 non-null   object        \n",
      " 11  post_excerpt       714 non-null    object        \n",
      " 12  post_status        1428 non-null   object        \n",
      " 13  comment_status     1428 non-null   object        \n",
      " 14  ping_status        1428 non-null   object        \n",
      " 15  post_name          1428 non-null   object        \n",
      " 16  post_modified      1428 non-null   datetime64[ns]\n",
      " 17  post_modified_gmt  1428 non-null   datetime64[ns]\n",
      " 18  post_parent        1428 non-null   float64       \n",
      " 19  guid               1428 non-null   object        \n",
      " 20  menu_order         1428 non-null   float64       \n",
      " 21  post_type          1428 non-null   object        \n",
      " 22  post_mime_type     714 non-null    object        \n",
      " 23  comment_count      1428 non-null   float64       \n",
      "dtypes: datetime64[ns](4), float64(6), int64(3), object(11)\n",
      "memory usage: 278.9+ KB\n"
     ]
    }
   ],
   "source": [
    "\n",
    "\n",
    "web2.info()"
   ]
  },
  {
   "cell_type": "code",
   "execution_count": 228,
   "metadata": {},
   "outputs": [
    {
     "data": {
      "text/html": [
       "<div>\n",
       "<style scoped>\n",
       "    .dataframe tbody tr th:only-of-type {\n",
       "        vertical-align: middle;\n",
       "    }\n",
       "\n",
       "    .dataframe tbody tr th {\n",
       "        vertical-align: top;\n",
       "    }\n",
       "\n",
       "    .dataframe thead th {\n",
       "        text-align: right;\n",
       "    }\n",
       "</style>\n",
       "<table border=\"1\" class=\"dataframe\">\n",
       "  <thead>\n",
       "    <tr style=\"text-align: right;\">\n",
       "      <th></th>\n",
       "      <th>id_web</th>\n",
       "      <th>tax_status</th>\n",
       "      <th>post_excerpt</th>\n",
       "      <th>post_type</th>\n",
       "      <th>post_mime_type</th>\n",
       "    </tr>\n",
       "  </thead>\n",
       "  <tbody>\n",
       "    <tr>\n",
       "      <th>0</th>\n",
       "      <td>16004</td>\n",
       "      <td>NaN</td>\n",
       "      <td>NaN</td>\n",
       "      <td>attachment</td>\n",
       "      <td>image/jpeg</td>\n",
       "    </tr>\n",
       "    <tr>\n",
       "      <th>2</th>\n",
       "      <td>15075</td>\n",
       "      <td>taxable</td>\n",
       "      <td>Des couleurs et aromes intenses où le fruit et...</td>\n",
       "      <td>product</td>\n",
       "      <td>NaN</td>\n",
       "    </tr>\n",
       "    <tr>\n",
       "      <th>3</th>\n",
       "      <td>16209</td>\n",
       "      <td>taxable</td>\n",
       "      <td>Un joli nez aux arômes de fruits rouges, de ca...</td>\n",
       "      <td>product</td>\n",
       "      <td>NaN</td>\n",
       "    </tr>\n",
       "    <tr>\n",
       "      <th>4</th>\n",
       "      <td>15763</td>\n",
       "      <td>NaN</td>\n",
       "      <td>NaN</td>\n",
       "      <td>attachment</td>\n",
       "      <td>image/jpeg</td>\n",
       "    </tr>\n",
       "    <tr>\n",
       "      <th>5</th>\n",
       "      <td>13895</td>\n",
       "      <td>taxable</td>\n",
       "      <td>&lt;span style=\"display: inline !important; float...</td>\n",
       "      <td>product</td>\n",
       "      <td>NaN</td>\n",
       "    </tr>\n",
       "    <tr>\n",
       "      <th>6</th>\n",
       "      <td>12857</td>\n",
       "      <td>taxable</td>\n",
       "      <td>Il présente une grande fraîcheur minérale au n...</td>\n",
       "      <td>product</td>\n",
       "      <td>NaN</td>\n",
       "    </tr>\n",
       "    <tr>\n",
       "      <th>7</th>\n",
       "      <td>15740</td>\n",
       "      <td>NaN</td>\n",
       "      <td>NaN</td>\n",
       "      <td>attachment</td>\n",
       "      <td>image/jpeg</td>\n",
       "    </tr>\n",
       "    <tr>\n",
       "      <th>8</th>\n",
       "      <td>14253</td>\n",
       "      <td>NaN</td>\n",
       "      <td>NaN</td>\n",
       "      <td>attachment</td>\n",
       "      <td>image/jpeg</td>\n",
       "    </tr>\n",
       "    <tr>\n",
       "      <th>9</th>\n",
       "      <td>14106</td>\n",
       "      <td>taxable</td>\n",
       "      <td>Ce vin peut-être dégusté sur sa jeunesse mais ...</td>\n",
       "      <td>product</td>\n",
       "      <td>NaN</td>\n",
       "    </tr>\n",
       "    <tr>\n",
       "      <th>10</th>\n",
       "      <td>13996</td>\n",
       "      <td>taxable</td>\n",
       "      <td>\"Il s'agit là de la meilleure partie de l'appe...</td>\n",
       "      <td>product</td>\n",
       "      <td>NaN</td>\n",
       "    </tr>\n",
       "  </tbody>\n",
       "</table>\n",
       "</div>"
      ],
      "text/plain": [
       "   id_web tax_status                                       post_excerpt  \\\n",
       "0   16004        NaN                                                NaN   \n",
       "2   15075    taxable  Des couleurs et aromes intenses où le fruit et...   \n",
       "3   16209    taxable  Un joli nez aux arômes de fruits rouges, de ca...   \n",
       "4   15763        NaN                                                NaN   \n",
       "5   13895    taxable  <span style=\"display: inline !important; float...   \n",
       "6   12857    taxable  Il présente une grande fraîcheur minérale au n...   \n",
       "7   15740        NaN                                                NaN   \n",
       "8   14253        NaN                                                NaN   \n",
       "9   14106    taxable  Ce vin peut-être dégusté sur sa jeunesse mais ...   \n",
       "10  13996    taxable  \"Il s'agit là de la meilleure partie de l'appe...   \n",
       "\n",
       "     post_type post_mime_type  \n",
       "0   attachment     image/jpeg  \n",
       "2      product            NaN  \n",
       "3      product            NaN  \n",
       "4   attachment     image/jpeg  \n",
       "5      product            NaN  \n",
       "6      product            NaN  \n",
       "7   attachment     image/jpeg  \n",
       "8   attachment     image/jpeg  \n",
       "9      product            NaN  \n",
       "10     product            NaN  "
      ]
     },
     "execution_count": 228,
     "metadata": {},
     "output_type": "execute_result"
    }
   ],
   "source": [
    "selected_columns = [\"id_web\", \"tax_status\", \"post_excerpt\", \"post_type\", \"post_mime_type\"]\n",
    "web2[selected_columns].head(10)"
   ]
  },
  {
   "cell_type": "markdown",
   "metadata": {},
   "source": [
    "<font color='red'>CONCLUSION: Effectivement il semble que les collones listés précédenement, ont 2 fois moins des lignes que la colonnes\"web_id\". Donc en effet comme precisé dans la colonne \"post_type\" uniquement un sur deux web_id font reference à un produit, car l'autre exemplaire fait référance à un \"atachement\"; Avec cette information nous decidons de garder sulement les lignes qui font reference au produit. </font>"
   ]
  },
  {
   "cell_type": "code",
   "execution_count": 229,
   "metadata": {},
   "outputs": [],
   "source": [
    "web_sans_sku_duplicates = web2[web2['post_type'] == 'product']\n"
   ]
  },
  {
   "cell_type": "code",
   "execution_count": 230,
   "metadata": {},
   "outputs": [
    {
     "name": "stdout",
     "output_type": "stream",
     "text": [
      "<class 'pandas.core.frame.DataFrame'>\n",
      "Index: 714 entries, 2 to 1510\n",
      "Data columns (total 24 columns):\n",
      " #   Column             Non-Null Count  Dtype         \n",
      "---  ------             --------------  -----         \n",
      " 0   id_web             714 non-null    object        \n",
      " 1   virtual            714 non-null    int64         \n",
      " 2   downloadable       714 non-null    int64         \n",
      " 3   rating_count       714 non-null    int64         \n",
      " 4   average_rating     714 non-null    float64       \n",
      " 5   total_sales        714 non-null    float64       \n",
      " 6   tax_status         714 non-null    object        \n",
      " 7   post_author        714 non-null    float64       \n",
      " 8   post_date          714 non-null    datetime64[ns]\n",
      " 9   post_date_gmt      714 non-null    datetime64[ns]\n",
      " 10  post_title         714 non-null    object        \n",
      " 11  post_excerpt       714 non-null    object        \n",
      " 12  post_status        714 non-null    object        \n",
      " 13  comment_status     714 non-null    object        \n",
      " 14  ping_status        714 non-null    object        \n",
      " 15  post_name          714 non-null    object        \n",
      " 16  post_modified      714 non-null    datetime64[ns]\n",
      " 17  post_modified_gmt  714 non-null    datetime64[ns]\n",
      " 18  post_parent        714 non-null    float64       \n",
      " 19  guid               714 non-null    object        \n",
      " 20  menu_order         714 non-null    float64       \n",
      " 21  post_type          714 non-null    object        \n",
      " 22  post_mime_type     0 non-null      object        \n",
      " 23  comment_count      714 non-null    float64       \n",
      "dtypes: datetime64[ns](4), float64(6), int64(3), object(11)\n",
      "memory usage: 139.5+ KB\n"
     ]
    }
   ],
   "source": [
    "web_sans_sku_duplicates.info()"
   ]
  },
  {
   "cell_type": "code",
   "execution_count": 231,
   "metadata": {},
   "outputs": [],
   "source": [
    "web4=web_sans_sku_duplicates"
   ]
  },
  {
   "cell_type": "code",
   "execution_count": 232,
   "metadata": {},
   "outputs": [
    {
     "data": {
      "text/plain": [
       "<bound method DataFrame.info of      id_web  virtual  downloadable  rating_count  average_rating  total_sales  \\\n",
       "2     15075        0             0             0             0.0          3.0   \n",
       "3     16209        0             0             0             0.0          6.0   \n",
       "5     13895        0             0             0             0.0          0.0   \n",
       "6     12857        0             0             0             0.0          0.0   \n",
       "9     14106        0             0             0             0.0          0.0   \n",
       "...     ...      ...           ...           ...             ...          ...   \n",
       "1501  15941        0             0             0             0.0          4.0   \n",
       "1503  10459        0             0             0             0.0          0.0   \n",
       "1507  16320        0             0             0             0.0          3.0   \n",
       "1509  15663        0             0             0             0.0          3.0   \n",
       "1510  15910        0             0             0             0.0          0.0   \n",
       "\n",
       "     tax_status  post_author           post_date       post_date_gmt  ...  \\\n",
       "2       taxable          2.0 2018-02-14 15:39:43 2018-02-14 14:39:43  ...   \n",
       "3       taxable          2.0 2018-02-14 17:15:31 2018-02-14 16:15:31  ...   \n",
       "5       taxable          2.0 2019-03-19 10:41:50 2019-03-19 09:41:50  ...   \n",
       "6       taxable          2.0 2018-04-12 17:56:13 2018-04-12 15:56:13  ...   \n",
       "9       taxable          2.0 2019-06-08 09:54:21 2019-06-08 07:54:21  ...   \n",
       "...         ...          ...                 ...                 ...  ...   \n",
       "1501    taxable          2.0 2018-02-12 14:26:52 2018-02-12 13:26:52  ...   \n",
       "1503    taxable          2.0 2018-04-13 15:58:19 2018-04-13 13:58:19  ...   \n",
       "1507    taxable          2.0 2018-02-12 12:49:29 2018-02-12 11:49:29  ...   \n",
       "1509    taxable          2.0 2018-02-27 10:27:01 2018-02-27 09:27:01  ...   \n",
       "1510    taxable          2.0 2019-03-28 10:59:43 2019-03-28 09:59:43  ...   \n",
       "\n",
       "     ping_status                                          post_name  \\\n",
       "2         closed                  pares-balta-penedes-indigena-2017   \n",
       "3         closed                     maurel-cabardes-tradition-2017   \n",
       "5         closed         chateau-saransot-dupre-bordeaux-blanc-2016   \n",
       "6         closed  chateau-de-puligny-montrachet-1cru-champ-canet...   \n",
       "9         closed                stephane-tissot-chateau-chalon-2011   \n",
       "...          ...                                                ...   \n",
       "1501      closed                         jerome-cotes-du-rhone-2018   \n",
       "1503      closed  alphonse-mellot-sancerre-rouge-generation-xix-...   \n",
       "1507      closed  mourgues-du-gres-costieres-de-nimes-terre-darg...   \n",
       "1509      closed  chermette-domaine-du-vissoux-brouilly-pierreux...   \n",
       "1510      closed     thevenet-quintaine-vire-clesse-la-bongran-2015   \n",
       "\n",
       "           post_modified   post_modified_gmt post_parent  \\\n",
       "2    2020-08-20 15:35:02 2020-08-20 13:35:02         0.0   \n",
       "3    2020-08-05 18:05:03 2020-08-05 16:05:03         0.0   \n",
       "5    2020-04-25 21:11:40 2020-04-25 19:11:40         0.0   \n",
       "6    2020-02-06 16:35:02 2020-02-06 15:35:02         0.0   \n",
       "9    2020-05-29 17:35:03 2020-05-29 15:35:03         0.0   \n",
       "...                  ...                 ...         ...   \n",
       "1501 2020-06-25 14:00:03 2020-06-25 12:00:03         0.0   \n",
       "1503 2020-08-24 14:05:02 2020-08-24 12:05:02         0.0   \n",
       "1507 2020-08-25 11:15:03 2020-08-25 09:15:03         0.0   \n",
       "1509 2020-08-01 09:35:02 2020-08-01 07:35:02         0.0   \n",
       "1510 2020-08-14 10:45:02 2020-08-14 08:45:02         0.0   \n",
       "\n",
       "                                                   guid menu_order post_type  \\\n",
       "2     https://www.bottle-neck.fr/?post_type=product&...        0.0   product   \n",
       "3     https://www.bottle-neck.fr/?post_type=product&...        0.0   product   \n",
       "5     https://www.bottle-neck.fr/?post_type=product&...        0.0   product   \n",
       "6     https://www.bottle-neck.fr/?post_type=product&...        0.0   product   \n",
       "9     https://www.bottle-neck.fr/?post_type=product&...        0.0   product   \n",
       "...                                                 ...        ...       ...   \n",
       "1501  https://www.bottle-neck.fr/?post_type=product&...        0.0   product   \n",
       "1503  https://www.bottle-neck.fr/?post_type=product&...        0.0   product   \n",
       "1507  https://www.bottle-neck.fr/?post_type=product&...        0.0   product   \n",
       "1509  https://www.bottle-neck.fr/?post_type=product&...        0.0   product   \n",
       "1510  https://www.bottle-neck.fr/?post_type=product&...        0.0   product   \n",
       "\n",
       "      post_mime_type comment_count  \n",
       "2                NaN           0.0  \n",
       "3                NaN           0.0  \n",
       "5                NaN           0.0  \n",
       "6                NaN           0.0  \n",
       "9                NaN           0.0  \n",
       "...              ...           ...  \n",
       "1501             NaN           0.0  \n",
       "1503             NaN           0.0  \n",
       "1507             NaN           0.0  \n",
       "1509             NaN           0.0  \n",
       "1510             NaN           0.0  \n",
       "\n",
       "[714 rows x 24 columns]>"
      ]
     },
     "execution_count": 232,
     "metadata": {},
     "output_type": "execute_result"
    }
   ],
   "source": [
    "web4.info"
   ]
  },
  {
   "cell_type": "markdown",
   "metadata": {},
   "source": [
    "## <span style='color:violet'>fusion des fichiers erp, liaison et web3 en une seule</span>"
   ]
  },
  {
   "cell_type": "markdown",
   "metadata": {},
   "source": [
    "<font color='orange'>NB:Pour pouvoir fusioner ces fichiers nous devrions nous rassurer que le cle - ici \"id_web\" - sera de meme type dans les fichier liaison avec le fichier web3 et le product_id dans le fichier erp avec le fichier liaison.</font>"
   ]
  },
  {
   "cell_type": "code",
   "execution_count": 233,
   "metadata": {},
   "outputs": [],
   "source": [
    "liaison2 = liaison"
   ]
  },
  {
   "cell_type": "code",
   "execution_count": 234,
   "metadata": {},
   "outputs": [],
   "source": [
    "liaison2['id_web']=liaison2['id_web'].astype(str)"
   ]
  },
  {
   "cell_type": "code",
   "execution_count": 235,
   "metadata": {},
   "outputs": [
    {
     "name": "stdout",
     "output_type": "stream",
     "text": [
      "<class 'pandas.core.frame.DataFrame'>\n",
      "RangeIndex: 825 entries, 0 to 824\n",
      "Data columns (total 2 columns):\n",
      " #   Column      Non-Null Count  Dtype \n",
      "---  ------      --------------  ----- \n",
      " 0   product_id  825 non-null    int64 \n",
      " 1   id_web      825 non-null    object\n",
      "dtypes: int64(1), object(1)\n",
      "memory usage: 13.0+ KB\n"
     ]
    }
   ],
   "source": [
    "liaison2.info()"
   ]
  },
  {
   "cell_type": "code",
   "execution_count": 236,
   "metadata": {},
   "outputs": [],
   "source": [
    "merged_erp_liaison = pd.merge(erp, liaison, how='inner', left_on='product_id', right_on='product_id')\n",
    "\n",
    "\n"
   ]
  },
  {
   "cell_type": "code",
   "execution_count": 237,
   "metadata": {},
   "outputs": [
    {
     "data": {
      "text/html": [
       "<div>\n",
       "<style scoped>\n",
       "    .dataframe tbody tr th:only-of-type {\n",
       "        vertical-align: middle;\n",
       "    }\n",
       "\n",
       "    .dataframe tbody tr th {\n",
       "        vertical-align: top;\n",
       "    }\n",
       "\n",
       "    .dataframe thead th {\n",
       "        text-align: right;\n",
       "    }\n",
       "</style>\n",
       "<table border=\"1\" class=\"dataframe\">\n",
       "  <thead>\n",
       "    <tr style=\"text-align: right;\">\n",
       "      <th></th>\n",
       "      <th>product_id</th>\n",
       "      <th>onsale_web</th>\n",
       "      <th>price</th>\n",
       "      <th>stock_quantity</th>\n",
       "      <th>stock_status</th>\n",
       "      <th>id_web</th>\n",
       "    </tr>\n",
       "  </thead>\n",
       "  <tbody>\n",
       "    <tr>\n",
       "      <th>0</th>\n",
       "      <td>3847</td>\n",
       "      <td>1</td>\n",
       "      <td>24.2</td>\n",
       "      <td>0</td>\n",
       "      <td>outofstock</td>\n",
       "      <td>15298</td>\n",
       "    </tr>\n",
       "    <tr>\n",
       "      <th>1</th>\n",
       "      <td>3849</td>\n",
       "      <td>1</td>\n",
       "      <td>34.3</td>\n",
       "      <td>0</td>\n",
       "      <td>outofstock</td>\n",
       "      <td>15296</td>\n",
       "    </tr>\n",
       "    <tr>\n",
       "      <th>2</th>\n",
       "      <td>3850</td>\n",
       "      <td>1</td>\n",
       "      <td>20.8</td>\n",
       "      <td>0</td>\n",
       "      <td>outofstock</td>\n",
       "      <td>15300</td>\n",
       "    </tr>\n",
       "    <tr>\n",
       "      <th>3</th>\n",
       "      <td>4032</td>\n",
       "      <td>1</td>\n",
       "      <td>14.1</td>\n",
       "      <td>0</td>\n",
       "      <td>outofstock</td>\n",
       "      <td>19814</td>\n",
       "    </tr>\n",
       "    <tr>\n",
       "      <th>4</th>\n",
       "      <td>4039</td>\n",
       "      <td>1</td>\n",
       "      <td>46.0</td>\n",
       "      <td>0</td>\n",
       "      <td>outofstock</td>\n",
       "      <td>19815</td>\n",
       "    </tr>\n",
       "    <tr>\n",
       "      <th>5</th>\n",
       "      <td>4040</td>\n",
       "      <td>1</td>\n",
       "      <td>34.3</td>\n",
       "      <td>0</td>\n",
       "      <td>outofstock</td>\n",
       "      <td>15303</td>\n",
       "    </tr>\n",
       "    <tr>\n",
       "      <th>6</th>\n",
       "      <td>4041</td>\n",
       "      <td>1</td>\n",
       "      <td>32.7</td>\n",
       "      <td>15</td>\n",
       "      <td>instock</td>\n",
       "      <td>14975</td>\n",
       "    </tr>\n",
       "    <tr>\n",
       "      <th>7</th>\n",
       "      <td>4042</td>\n",
       "      <td>1</td>\n",
       "      <td>31.2</td>\n",
       "      <td>34</td>\n",
       "      <td>instock</td>\n",
       "      <td>16042</td>\n",
       "    </tr>\n",
       "    <tr>\n",
       "      <th>8</th>\n",
       "      <td>4043</td>\n",
       "      <td>1</td>\n",
       "      <td>60.0</td>\n",
       "      <td>12</td>\n",
       "      <td>instock</td>\n",
       "      <td>14980</td>\n",
       "    </tr>\n",
       "    <tr>\n",
       "      <th>9</th>\n",
       "      <td>4045</td>\n",
       "      <td>1</td>\n",
       "      <td>42.6</td>\n",
       "      <td>66</td>\n",
       "      <td>instock</td>\n",
       "      <td>16041</td>\n",
       "    </tr>\n",
       "  </tbody>\n",
       "</table>\n",
       "</div>"
      ],
      "text/plain": [
       "   product_id  onsale_web  price  stock_quantity stock_status id_web\n",
       "0        3847           1   24.2               0   outofstock  15298\n",
       "1        3849           1   34.3               0   outofstock  15296\n",
       "2        3850           1   20.8               0   outofstock  15300\n",
       "3        4032           1   14.1               0   outofstock  19814\n",
       "4        4039           1   46.0               0   outofstock  19815\n",
       "5        4040           1   34.3               0   outofstock  15303\n",
       "6        4041           1   32.7              15      instock  14975\n",
       "7        4042           1   31.2              34      instock  16042\n",
       "8        4043           1   60.0              12      instock  14980\n",
       "9        4045           1   42.6              66      instock  16041"
      ]
     },
     "execution_count": 237,
     "metadata": {},
     "output_type": "execute_result"
    }
   ],
   "source": [
    "merged_erp_liaison.head(10)"
   ]
  },
  {
   "cell_type": "code",
   "execution_count": 238,
   "metadata": {},
   "outputs": [
    {
     "data": {
      "text/plain": [
       "(825, 6)"
      ]
     },
     "execution_count": 238,
     "metadata": {},
     "output_type": "execute_result"
    }
   ],
   "source": [
    "merged_erp_liaison.shape"
   ]
  },
  {
   "cell_type": "code",
   "execution_count": 239,
   "metadata": {},
   "outputs": [
    {
     "name": "stdout",
     "output_type": "stream",
     "text": [
      "product_id          int64\n",
      "onsale_web          int64\n",
      "price             float64\n",
      "stock_quantity      int64\n",
      "stock_status       object\n",
      "id_web             object\n",
      "dtype: object\n"
     ]
    }
   ],
   "source": [
    "merged_erp_liaison['id_web'] = merged_erp_liaison['id_web'].astype(str)\n",
    "\n",
    "\n",
    "print(merged_erp_liaison.dtypes)"
   ]
  },
  {
   "cell_type": "code",
   "execution_count": 240,
   "metadata": {},
   "outputs": [
    {
     "name": "stdout",
     "output_type": "stream",
     "text": [
      "id_web                       object\n",
      "virtual                       int64\n",
      "downloadable                  int64\n",
      "rating_count                  int64\n",
      "average_rating              float64\n",
      "total_sales                 float64\n",
      "tax_status                   object\n",
      "post_author                 float64\n",
      "post_date            datetime64[ns]\n",
      "post_date_gmt        datetime64[ns]\n",
      "post_title                   object\n",
      "post_excerpt                 object\n",
      "post_status                  object\n",
      "comment_status               object\n",
      "ping_status                  object\n",
      "post_name                    object\n",
      "post_modified        datetime64[ns]\n",
      "post_modified_gmt    datetime64[ns]\n",
      "post_parent                 float64\n",
      "guid                         object\n",
      "menu_order                  float64\n",
      "post_type                    object\n",
      "post_mime_type               object\n",
      "comment_count               float64\n",
      "dtype: object\n"
     ]
    }
   ],
   "source": [
    "print(web4.dtypes)"
   ]
  },
  {
   "cell_type": "code",
   "execution_count": 241,
   "metadata": {},
   "outputs": [
    {
     "name": "stdout",
     "output_type": "stream",
     "text": [
      "<class 'pandas.core.frame.DataFrame'>\n",
      "Index: 714 entries, 2 to 1510\n",
      "Data columns (total 24 columns):\n",
      " #   Column             Non-Null Count  Dtype         \n",
      "---  ------             --------------  -----         \n",
      " 0   id_web             714 non-null    object        \n",
      " 1   virtual            714 non-null    int64         \n",
      " 2   downloadable       714 non-null    int64         \n",
      " 3   rating_count       714 non-null    int64         \n",
      " 4   average_rating     714 non-null    float64       \n",
      " 5   total_sales        714 non-null    float64       \n",
      " 6   tax_status         714 non-null    object        \n",
      " 7   post_author        714 non-null    float64       \n",
      " 8   post_date          714 non-null    datetime64[ns]\n",
      " 9   post_date_gmt      714 non-null    datetime64[ns]\n",
      " 10  post_title         714 non-null    object        \n",
      " 11  post_excerpt       714 non-null    object        \n",
      " 12  post_status        714 non-null    object        \n",
      " 13  comment_status     714 non-null    object        \n",
      " 14  ping_status        714 non-null    object        \n",
      " 15  post_name          714 non-null    object        \n",
      " 16  post_modified      714 non-null    datetime64[ns]\n",
      " 17  post_modified_gmt  714 non-null    datetime64[ns]\n",
      " 18  post_parent        714 non-null    float64       \n",
      " 19  guid               714 non-null    object        \n",
      " 20  menu_order         714 non-null    float64       \n",
      " 21  post_type          714 non-null    object        \n",
      " 22  post_mime_type     0 non-null      object        \n",
      " 23  comment_count      714 non-null    float64       \n",
      "dtypes: datetime64[ns](4), float64(6), int64(3), object(11)\n",
      "memory usage: 139.5+ KB\n"
     ]
    }
   ],
   "source": [
    "web4.info()"
   ]
  },
  {
   "cell_type": "code",
   "execution_count": 242,
   "metadata": {},
   "outputs": [],
   "source": [
    "web3=web4"
   ]
  },
  {
   "cell_type": "code",
   "execution_count": 243,
   "metadata": {},
   "outputs": [
    {
     "name": "stdout",
     "output_type": "stream",
     "text": [
      "Data type of 'id_web' column in merged_erp_liaison: object\n",
      "Data type of 'id_web' column in web4: object\n"
     ]
    }
   ],
   "source": [
    "print(\"Data type of 'id_web' column in merged_erp_liaison:\", merged_erp_liaison['id_web'].dtype)\n",
    "print(\"Data type of 'id_web' column in web4:\", web4['id_web'].dtype)"
   ]
  },
  {
   "cell_type": "code",
   "execution_count": 244,
   "metadata": {},
   "outputs": [
    {
     "name": "stdout",
     "output_type": "stream",
     "text": [
      "Merged DF (inner join):\n",
      "     product_id  onsale_web  price  stock_quantity stock_status   id_web  \\\n",
      "0          3847           1   24.2               0   outofstock    15298   \n",
      "1          3849           1   34.3               0   outofstock    15296   \n",
      "2          3850           1   20.8               0   outofstock    15300   \n",
      "3          4032           1   14.1               0   outofstock    19814   \n",
      "4          4039           1   46.0               0   outofstock    19815   \n",
      "..          ...         ...    ...             ...          ...      ...   \n",
      "709        6930           1    8.4              83      instock    16135   \n",
      "710        7023           1   27.5              15      instock    15891   \n",
      "711        7025           1   69.0               2      instock    15887   \n",
      "712        7247           1   54.8              23      instock  13127-1   \n",
      "713        7338           1   16.3              45      instock    16230   \n",
      "\n",
      "     virtual  downloadable  rating_count  average_rating  ...  ping_status  \\\n",
      "0          0             0             0             0.0  ...       closed   \n",
      "1          0             0             0             0.0  ...       closed   \n",
      "2          0             0             0             0.0  ...       closed   \n",
      "3          0             0             0             0.0  ...       closed   \n",
      "4          0             0             0             0.0  ...       closed   \n",
      "..       ...           ...           ...             ...  ...          ...   \n",
      "709        0             0             0             0.0  ...       closed   \n",
      "710        0             0             0             0.0  ...       closed   \n",
      "711        0             0             0             0.0  ...       closed   \n",
      "712        0             0             0             0.0  ...       closed   \n",
      "713        0             0             0             0.0  ...       closed   \n",
      "\n",
      "                                             post_name       post_modified  \\\n",
      "0          pierre-jean-villa-saint-joseph-preface-2018 2019-12-30 09:30:29   \n",
      "1            pierre-jean-villa-saint-joseph-tilde-2017 2019-12-21 09:00:17   \n",
      "2    pierre-jean-villa-croze-hermitage-accroche-coe... 2020-06-26 18:15:03   \n",
      "3                    pierre-jean-villa-igp-gamine-2018 2020-01-04 16:36:01   \n",
      "4            pierre-jean-villa-cote-rotie-carmina-2017 2020-01-04 16:36:10   \n",
      "..                                                 ...                 ...   \n",
      "709                    mouthes-le-bihan-aime-chai-2015 2020-08-26 17:35:03   \n",
      "710         camin-larredya-jurancon-sec-la-virada-2018 2020-08-26 17:35:02   \n",
      "711             jamet-cote-rotie-fructus-voluptas-2018 2020-08-14 18:15:03   \n",
      "712     clos-du-mont-olivet-chateauneuf-du-pape-2007-2 2020-07-20 17:09:06   \n",
      "713  domaine-saint-nicolas-fiefs-vendeens-blanc-les... 2020-08-13 10:45:03   \n",
      "\n",
      "      post_modified_gmt post_parent  \\\n",
      "0   2019-12-30 08:30:29         0.0   \n",
      "1   2019-12-21 08:00:17         0.0   \n",
      "2   2020-06-26 16:15:03         0.0   \n",
      "3   2020-01-04 15:36:01         0.0   \n",
      "4   2020-01-04 15:36:10         0.0   \n",
      "..                  ...         ...   \n",
      "709 2020-08-26 15:35:03         0.0   \n",
      "710 2020-08-26 15:35:02         0.0   \n",
      "711 2020-08-14 16:15:03         0.0   \n",
      "712 2020-07-20 15:09:06         0.0   \n",
      "713 2020-08-13 08:45:03         0.0   \n",
      "\n",
      "                                                  guid menu_order post_type  \\\n",
      "0    https://www.bottle-neck.fr/?post_type=product&...        0.0   product   \n",
      "1    https://www.bottle-neck.fr/?post_type=product&...        0.0   product   \n",
      "2    https://www.bottle-neck.fr/?post_type=product&...        0.0   product   \n",
      "3    https://www.bottle-neck.fr/?post_type=product&...        0.0   product   \n",
      "4    https://www.bottle-neck.fr/?post_type=product&...        0.0   product   \n",
      "..                                                 ...        ...       ...   \n",
      "709  https://www.bottle-neck.fr/?post_type=product&...        0.0   product   \n",
      "710  https://www.bottle-neck.fr/?post_type=product&...        0.0   product   \n",
      "711  https://www.bottle-neck.fr/?post_type=product&...        0.0   product   \n",
      "712  https://www.bottle-neck.fr/?post_type=product&...        0.0   product   \n",
      "713  https://www.bottle-neck.fr/?post_type=product&...        0.0   product   \n",
      "\n",
      "    post_mime_type comment_count  \n",
      "0              NaN           0.0  \n",
      "1              NaN           0.0  \n",
      "2              NaN           0.0  \n",
      "3              NaN           0.0  \n",
      "4              NaN           0.0  \n",
      "..             ...           ...  \n",
      "709            NaN           0.0  \n",
      "710            NaN           0.0  \n",
      "711            NaN           0.0  \n",
      "712            NaN           0.0  \n",
      "713            NaN           0.0  \n",
      "\n",
      "[714 rows x 29 columns]\n"
     ]
    },
    {
     "name": "stderr",
     "output_type": "stream",
     "text": [
      "C:\\Users\\cokre\\AppData\\Local\\Temp\\ipykernel_122336\\3547325410.py:3: SettingWithCopyWarning: \n",
      "A value is trying to be set on a copy of a slice from a DataFrame.\n",
      "Try using .loc[row_indexer,col_indexer] = value instead\n",
      "\n",
      "See the caveats in the documentation: https://pandas.pydata.org/pandas-docs/stable/user_guide/indexing.html#returning-a-view-versus-a-copy\n",
      "  web4['id_web'] = web4['id_web'].astype('str')\n"
     ]
    }
   ],
   "source": [
    "# nous appliquons le meme type sur notre clés\n",
    "merged_erp_liaison['id_web'] = merged_erp_liaison['id_web'].astype('str')\n",
    "web4['id_web'] = web4['id_web'].astype('str')\n",
    "\n",
    "\n",
    "# et puis on procede avec la fusion\n",
    "final_merged_df_inner = pd.merge(merged_erp_liaison, web4, how='inner', on='id_web')\n",
    "\n",
    "\n",
    "print(\"Merged DF (inner join):\")\n",
    "print(final_merged_df_inner)\n"
   ]
  },
  {
   "cell_type": "code",
   "execution_count": 245,
   "metadata": {},
   "outputs": [
    {
     "name": "stdout",
     "output_type": "stream",
     "text": [
      "     product_id  onsale_web  price  stock_quantity stock_status   id_web  \\\n",
      "0          3847           1   24.2               0   outofstock    15298   \n",
      "1          3849           1   34.3               0   outofstock    15296   \n",
      "2          3850           1   20.8               0   outofstock    15300   \n",
      "3          4032           1   14.1               0   outofstock    19814   \n",
      "4          4039           1   46.0               0   outofstock    19815   \n",
      "..          ...         ...    ...             ...          ...      ...   \n",
      "709        6930           1    8.4              83      instock    16135   \n",
      "710        7023           1   27.5              15      instock    15891   \n",
      "711        7025           1   69.0               2      instock    15887   \n",
      "712        7247           1   54.8              23      instock  13127-1   \n",
      "713        7338           1   16.3              45      instock    16230   \n",
      "\n",
      "     virtual  downloadable  rating_count  average_rating  ...  ping_status  \\\n",
      "0          0             0             0             0.0  ...       closed   \n",
      "1          0             0             0             0.0  ...       closed   \n",
      "2          0             0             0             0.0  ...       closed   \n",
      "3          0             0             0             0.0  ...       closed   \n",
      "4          0             0             0             0.0  ...       closed   \n",
      "..       ...           ...           ...             ...  ...          ...   \n",
      "709        0             0             0             0.0  ...       closed   \n",
      "710        0             0             0             0.0  ...       closed   \n",
      "711        0             0             0             0.0  ...       closed   \n",
      "712        0             0             0             0.0  ...       closed   \n",
      "713        0             0             0             0.0  ...       closed   \n",
      "\n",
      "                                             post_name       post_modified  \\\n",
      "0          pierre-jean-villa-saint-joseph-preface-2018 2019-12-30 09:30:29   \n",
      "1            pierre-jean-villa-saint-joseph-tilde-2017 2019-12-21 09:00:17   \n",
      "2    pierre-jean-villa-croze-hermitage-accroche-coe... 2020-06-26 18:15:03   \n",
      "3                    pierre-jean-villa-igp-gamine-2018 2020-01-04 16:36:01   \n",
      "4            pierre-jean-villa-cote-rotie-carmina-2017 2020-01-04 16:36:10   \n",
      "..                                                 ...                 ...   \n",
      "709                    mouthes-le-bihan-aime-chai-2015 2020-08-26 17:35:03   \n",
      "710         camin-larredya-jurancon-sec-la-virada-2018 2020-08-26 17:35:02   \n",
      "711             jamet-cote-rotie-fructus-voluptas-2018 2020-08-14 18:15:03   \n",
      "712     clos-du-mont-olivet-chateauneuf-du-pape-2007-2 2020-07-20 17:09:06   \n",
      "713  domaine-saint-nicolas-fiefs-vendeens-blanc-les... 2020-08-13 10:45:03   \n",
      "\n",
      "      post_modified_gmt post_parent  \\\n",
      "0   2019-12-30 08:30:29         0.0   \n",
      "1   2019-12-21 08:00:17         0.0   \n",
      "2   2020-06-26 16:15:03         0.0   \n",
      "3   2020-01-04 15:36:01         0.0   \n",
      "4   2020-01-04 15:36:10         0.0   \n",
      "..                  ...         ...   \n",
      "709 2020-08-26 15:35:03         0.0   \n",
      "710 2020-08-26 15:35:02         0.0   \n",
      "711 2020-08-14 16:15:03         0.0   \n",
      "712 2020-07-20 15:09:06         0.0   \n",
      "713 2020-08-13 08:45:03         0.0   \n",
      "\n",
      "                                                  guid menu_order post_type  \\\n",
      "0    https://www.bottle-neck.fr/?post_type=product&...        0.0   product   \n",
      "1    https://www.bottle-neck.fr/?post_type=product&...        0.0   product   \n",
      "2    https://www.bottle-neck.fr/?post_type=product&...        0.0   product   \n",
      "3    https://www.bottle-neck.fr/?post_type=product&...        0.0   product   \n",
      "4    https://www.bottle-neck.fr/?post_type=product&...        0.0   product   \n",
      "..                                                 ...        ...       ...   \n",
      "709  https://www.bottle-neck.fr/?post_type=product&...        0.0   product   \n",
      "710  https://www.bottle-neck.fr/?post_type=product&...        0.0   product   \n",
      "711  https://www.bottle-neck.fr/?post_type=product&...        0.0   product   \n",
      "712  https://www.bottle-neck.fr/?post_type=product&...        0.0   product   \n",
      "713  https://www.bottle-neck.fr/?post_type=product&...        0.0   product   \n",
      "\n",
      "    post_mime_type comment_count  \n",
      "0              NaN           0.0  \n",
      "1              NaN           0.0  \n",
      "2              NaN           0.0  \n",
      "3              NaN           0.0  \n",
      "4              NaN           0.0  \n",
      "..             ...           ...  \n",
      "709            NaN           0.0  \n",
      "710            NaN           0.0  \n",
      "711            NaN           0.0  \n",
      "712            NaN           0.0  \n",
      "713            NaN           0.0  \n",
      "\n",
      "[714 rows x 29 columns]\n"
     ]
    }
   ],
   "source": [
    "print(final_merged_df_inner)"
   ]
  },
  {
   "cell_type": "markdown",
   "metadata": {},
   "source": [
    "<font color='red'>CONCLUSION: Notre inner join est reussi, on esseye l'outer</font>"
   ]
  },
  {
   "cell_type": "code",
   "execution_count": 246,
   "metadata": {},
   "outputs": [
    {
     "name": "stdout",
     "output_type": "stream",
     "text": [
      "['15298' '15296' '15300' '19814' '19815' '15303' '14975' '16042' '14980'\n",
      " '16041' '15269' '14977' '16044' '16043' '16449' '16045' '16030' '13127'\n",
      " '19816' 'nan' '16029' '16039' '16318' '16275' '16498' '16320' '16319'\n",
      " '15966' '15022' '15967' '15490' '16416' '11862' '15444' '15953' '12045'\n",
      " '13074' '15941' '16069' '13072' '15440' '13435' '13078' '13117' '16296'\n",
      " '16014' '16462' '16013' '16180' '15676' '16120' '15564' '15675' '15378'\n",
      " '15813' '13416' '14905' '15767' '16505' '15683' '16504' '15787' '14800'\n",
      " '15353' '15382' '15339' '11668' '13209' '15341' '13217' '304' '11641'\n",
      " '1662' '1360' '15648' '1364' '7086' '1366' '15140' '16238' '16237'\n",
      " '15141' '14944' '14941' '14751' '16093' '15668' '15373' '15375' '14474'\n",
      " '15482' '13453' '15075' '16124' '15785' '15784' '15786' '14332' '16210'\n",
      " '16211' '16209' '15629' '15583' '16160' '16166' '15783' '16560' '15747'\n",
      " '15746' '16190' '16189' '16265' '16191' '16263' '15605' '16529' '15441'\n",
      " '13032' '16256' '16322' '16295' '15656' '15655' '15415' '15414' '15413'\n",
      " '16023' '16024' '15720' '15714' '15717' '15718' '15480' '15213' '15672'\n",
      " '12599' '15758' '15829' '15759' '16585' '15306' '16497' '15261' '12657'\n",
      " '15403' '15461' '16269' '13905' '16567' '15436' '14725' '15310' '15770'\n",
      " '16097' '15428' '15033' '16317' '15032' '6616' '12203' '14253' '12476'\n",
      " '14485' '14945' '15662' '15663' '15664' '15665' '15136' '16537' '16307'\n",
      " '16244' '15839' '13460' '13089' '12942' '14864' '14527' '14865' '15690'\n",
      " '16330' '16154' '16153' '16066' '16065' '15292' '13771' '16246' '16501'\n",
      " '16578' '15567' '16553' '13172' '15120' '15949' '15946' '7818' '13599'\n",
      " '4679' '12586' '12588' '15940' '12587' '12589' '12585' '9562' '13854'\n",
      " '13853' '11585' '11467' '11586' '13765' '13766' '11587' '9636' '12639'\n",
      " '12641' '12640' '14768' '3506' '3510' '3507' '13230' '7819' '3509'\n",
      " '15426' '15621' '15457' '15065' '13604' '12857' '14785' '15476' '14000'\n",
      " '15478' '15475' '16151' '15659' '15147' '15660' '15148' '15149' '15146'\n",
      " '15145' '15801' '15452' '15038' '15030' '15875' '16186' '14371' '10459'\n",
      " '14372' '11049' '15850' '15849' '812' '807' '805' '802' '2534' '793'\n",
      " '791' '2179' '804' '41' '798' '2361' '15848' '16525' '16262' '16261'\n",
      " '15206' '11849' '13515' '13514' '13516' '10814' '11847' '13517' '16081'\n",
      " '15402' '15404' '13647' '14657' '16053' '15525' '15527' '14676' '16057'\n",
      " '16056' '13762' '15280' '15282' '15281' '15283' '15934' '15933' '15575'\n",
      " '16239' '14451' '16324' '15582' '13736' '13659' '15465' '15004' '14699'\n",
      " '15349' '15466' '14700' '10775' '16119' '15667' '14746' '15361' '15196'\n",
      " '15657' '15658' '15670' '16527' '16513' '15880' '15879' '16010' '14950'\n",
      " '16540' '15729' '38' '5646' '8344' '15576' '16138' '14366' '13412'\n",
      " '12601' '14632' '15315' '13627' '14184' '15429' '16132' '14680' '15859'\n",
      " '16229' '14302' '16072' '14300' '13096' '16564' '13754' '15734' '15448'\n",
      " '15881' '15731' '15316' '15732' '14599' '15733' '15730' '12771' '3568'\n",
      " '14506' '15811' '16342' '16292' '15307' '16047' '16255' '15154' '16274'\n",
      " '16148' '14360' '16149' '16289' '14981' '15773' '15776' '16037' '16038'\n",
      " '15807' '15952' '15808' '16062' '16063' '14802' '13052' '14805' '14220'\n",
      " '14374' '14395' '15614' '13809' '15612' '13814' '15613' '15615' '15533'\n",
      " '15531' '15530' '15608' '15586' '15928' '16276' '16277' '15456' '15425'\n",
      " '15047' '15927' '16155' '16280' '9937' '16281' '15554' '15106' '16283'\n",
      " '13379' '15338' '15337' 'bon-cadeau-25-euros' '15737' '15958' '16515'\n",
      " '16586' '11225' '16004' '14756' '16005' '14930' '13313' '15229' '14507'\n",
      " '14509' '14508' '15868' '14581' '14580' '15869' '15871' '15870' '12791'\n",
      " '11602' '15073' '14839' '15272' '14696' '15630' '11996' '13914' '13913'\n",
      " '11997' '531' '13531' '15711' '15713' '15715' '15346' '15345' '15344'\n",
      " '15755' '15677' '14561' '16022' '16011' '3383' '14149' '13904' '14141'\n",
      " '12494' '15462' '15095' '14626' '12496' '12315' '15649' '14809' '15155'\n",
      " '12194' '16328' '14469' '16034' '14679' '15526' '16305' '16306' '15138'\n",
      " '15753' '15756' '16131' '16130' '16129' '14712' '15481' '16146' '14648'\n",
      " '14192' '15860' '15863' '15861' '15862' '15864' '14819' '14828' '14827'\n",
      " '15202' '13959' '13965' '13958' '13957' '13520' '13969' '14715' '19820'\n",
      " '19821' '15748' '19822' '16192' '14730' '14729' '8463' '13982' '15944'\n",
      " '15930' '14912' '15945' '14915' '14855' '14856' '15923' '14845' '14844'\n",
      " '15921' '15922' '12366' '8365' '12365' '14647' '15812' '14661' '16304'\n",
      " '15797' '16094' '14736' '11736' '15036' '15360' '15674' '13557' '15035'\n",
      " '16121' '14241' '14982' '15026' '15116' '15369' '15566' '16003' '15127'\n",
      " '15125' '14323' '15631' '16147' '7033' '11258' '13849' '15818' '15179'\n",
      " '15185' '15183' '15254' '15178' '15184' '15180' '15264' '14338' '15561'\n",
      " '16213' '14692' '13291' '13895' '15688' '14461' '14689' '11277' '15399'\n",
      " '13572' '14955' '13567' '15471' '15080' '14429' '15238' '15237' '14600'\n",
      " '15241' '11933' '15240' '15325' '15328' '15329' '15775' '15774' '14983'\n",
      " '13910' '16539' '15910' '12339' '12869' '14095' '14099' '15856' '12881'\n",
      " '15857' '12882' '15227' '10014' '14265' '14774' '14775' '14773' '15343'\n",
      " '15351' '16323' '523' '15432' '16472' '14379' '15609' '14377' '15895'\n",
      " '13577' '15577' '15766' '15892' '16326' '15574' '13662' '11669' '13215'\n",
      " '13211' '15342' '15318' '13073' '16159' '16264' '14899' '15134' '16133'\n",
      " '16028' '15951' '15487' '15486' '15489' '15529' '14089' '14100' '14092'\n",
      " '14090' '14106' '14101' '14797' '15201' '14923' '14573' '14569' '14570'\n",
      " '15834' '14596' '15126' '14604' '16565' '16580' '16077' '13996' '15072'\n",
      " '11601' '12790' '15070' '16096' '7032' '15324' '15162' '15161' '15163'\n",
      " '16273' '16247' '15654' '15710' '15745' '15678' '15810' '15779' '15707'\n",
      " '15705' '15706' '15704' '15473' '15479' '15647' '15769' '15434' '15764'\n",
      " '16071' '15781' '16031' '15539' '16046' '15204' '15205' '15790' '15791'\n",
      " '15792' '15793' '15795' '15794' '15763' '16152' '15661' '16068' '16067'\n",
      " '8193' '16144' '15256' '15735' '14897' '15736' '15740' '15845' '15741'\n",
      " '16135' '15891' '15887' '13127-1' '14680-1' '16230']\n"
     ]
    }
   ],
   "source": [
    "\n",
    "print(merged_erp_liaison['id_web'].unique())"
   ]
  },
  {
   "cell_type": "code",
   "execution_count": 247,
   "metadata": {},
   "outputs": [
    {
     "name": "stdout",
     "output_type": "stream",
     "text": [
      "['15075' '16209' '13895' '12857' '14106' '13996' '15428' '7033' '16077'\n",
      " '16237' '16028' '1364' '13913' '19815' '14982' '15339' '15382' '15325'\n",
      " '14941' '15241' '12641' '12942' '15344' '15661' '16274' '15718' '14395'\n",
      " '15254' '14839' '13957' '15004' '16005' '15615' '15206' '14371' '15378'\n",
      " '15141' '14805' '16238' '15280' '15038' '16505' '15880' '16527' '15649'\n",
      " '15621' '14604' '15032' '15329' '15733' '15237' '15711' '15261' '15790'\n",
      " '15414' '15030' '14950' '15892' '15425' '16130' '807' '15933' '15868'\n",
      " '15478' '15269' '13904' '793' '14302' '14192' '10775' '15448' '15736'\n",
      " '15648' '15921' '16148' '15735' '15196' '16071' '13531' '13969' '14632'\n",
      " '12869' '16564' '14975' '13435' '16263' '14506' '15527' '14580' '13089'\n",
      " '16053' '14944' '16264' '11586' '15213' '13959' '15657' '16151' '15479'\n",
      " '15887' '15891' 'bon-cadeau-25-euros' '12791' '13910' '16210' '15526'\n",
      " '16342' '13567' '3506' '15047' '11258' '14338' '2179' '16318' '14095'\n",
      " '7086' '16586' '16013' '15202' '11601' '15658' '16153' '15315' '16067'\n",
      " '15318' '14855' '15444' '16230' '16305' '16066' '15205' '16262' '15860'\n",
      " '16578' '15473' '16144' '14332' '16304' '16295' '13849' '15204' '14802'\n",
      " '14945' '16160' '14485' '15361' '15934' '15813' '16191' '15629' '16553'\n",
      " '16166' '11668' '15944' '12882' '16317' '16525' '15895' '16324' '14661'\n",
      " '16322' '15147' '15148' '16093' '14865' '13854' '16537' '14930' '16239'\n",
      " '15672' '15306' '12599' '15441' '16229' '15655' '12588' '13211' '15185'\n",
      " '19814' '14897' '15756' '14915' '15292' '14856' '14241' '15791' '3510'\n",
      " '13914' '15845' '15567' '15952' '15753' '16246' '15797' '15574' '15958'\n",
      " '15415' '15282' '15720' '13209' '12771' '15070' '14679' '13096' '15487'\n",
      " '11736' '16244' '3568' '15436' '16539' '14570' '16043' '15870' '15264'\n",
      " '14366' '15647' '12587' '14955' '13215' '15486' '15183' '15670' '11049'\n",
      " '15794' '15946' '5646' '14100' '15462' '16565' '16081' '13074' '16585'\n",
      " '11602' '15145' '13736' '16256' '15665' '523' '15631' '14775' '14844'\n",
      " '13073' '2534' '13032' '4679' '16540' '14508' '13127-1' '15533' '15676'\n",
      " '14864' '13217' '13230' '15525' '15338' '14099' '14372' '15136' '15737'\n",
      " '16261' '13291' '15818' '15298' '16057' '12366' '16189' '15928' '14912'\n",
      " '15310' '15178' '16042' '15561' '15281' '15713' '15426' '802' '16159'\n",
      " '15859' '15073' '16022' '15674' '13958' '15360' '15775' '14797' '15783'\n",
      " '14596' '11996' '15683' '804' '14809' '14089' '13809' '16135' '15403'\n",
      " '16004' '16146' '15707' '14000' '15201' '15583' '15774' '15767' '14692'\n",
      " '15731' '16186' '15434' '16154' '12315' '15127' '14725' '8365' '15812'\n",
      " '12365' '14828' '14581' '14700' '11585' '15138' '13515' '15927' '15795'\n",
      " '16063' '16094' '14899' '15554' '15861' '15922' '14092' '14561' '16497'\n",
      " '15675' '15839' '15690' '14220' '798' '15475' '15452' '13814' '13765'\n",
      " '15793' '13117' '13766' '11849' '14461' '15706' '16096' '19821' '11587'\n",
      " '14905' '15328' '16306' '12657' '13557' '16326' '15930' '15766' '16120'\n",
      " '13379' '13572' '15582' '16029' '16010' '14184' '13172' '7818' '15834'\n",
      " '304' '14323' '14253' '8344' '15755' '15369' '15781' '8463' '12640'\n",
      " '13072' '12586' '15967' '15849' '16129' '16296' '16515' '16024' '15413'\n",
      " '812' '14149' '12194' '11862' '16152' '15373' '16319' '531' '15072'\n",
      " '15864' '15748' '12790' '12639' '15869' '15163' '15614' '13517' '11933'\n",
      " '15539' '15848' '15126' '14429' '15471' '14746' '16121' '3509' '15300'\n",
      " '19816' '15080' '12476' '9636' '791' '15256' '15481' '15732' '15829'\n",
      " '15613' '15238' '15404' '14800' '16265' '14768' '13127' '16047' '14474'\n",
      " '15346' '15530' '15662' '16330' '9562' '13313' '16062' '14774' '15875'\n",
      " '15850' '13647' '16072' '14101' '13412' '15036' '15402' '15489' '15951'\n",
      " '15490' '15337' '14507' '16529' '15035' '15741' '16147' '15466' '15773'\n",
      " '16014' '15717' '11467' '16034' '14265' '16039' '10014' '7819' '16449'\n",
      " '15283' '15668' '15482' '16213' '15729' '15155' '16501' '15480' '15179'\n",
      " '15769' '15714' '15429' '12045' '14509' '15730' '15605' '1366' '12585'\n",
      " '15303' '14527' '15476' '11277' '16280' '14599' '15677' '15856' '15095'\n",
      " '15184' '11847' '16046' '14819' '15786' '14300' '15747' '16030' '14756'\n",
      " '15871' '13604' '16276' '15125' '15660' '16328' '14773' '14573' '15745'\n",
      " '15966' '13982' '14647' '15949' '15022' '3383' '14469' '15734' '12589'\n",
      " '16190' '16289' '14600' '15746' '13662' '16416' '16131' '15810' '15026'\n",
      " '16023' '19820' '15688' '16513' '11641' '38' '14451' '9937' '14141'\n",
      " '15140' '16149' '12203' '13853' '11225' '11669' '13453' '13754' '19822'\n",
      " '13905' '15779' '6616' '15577' '15341' '15612' '11997' '15149' '15227'\n",
      " '15659' '16133' '16045' '14983' '16180' '16560' '15342' '15764' '15862'\n",
      " '16323' '16580' '15307' '15146' '15704' '14729' '805' '14923' '15134'\n",
      " '15324' '14980' '16255' '13520' '14751' '15564' '3507' '16119' '15161'\n",
      " '13627' '14626' '14736' '15923' '16003' '15881' '13965' '15656' '16462'\n",
      " '15879' '8193' '16275' '15792' '16044' '16567' '14981' '16041' '13659'\n",
      " '15240' '16504' '14680' '15758' '12339' '15705' '15953' '13762' '15945'\n",
      " '15351' '15116' '15375' '16292' '15229' '13052' '15667' '16031' '15801'\n",
      " '16056' '12494' '12496' '16132' '15654' '16192' '15811' '15440' '15710'\n",
      " '14696' '15740' '1360' '15770' '15349' '15863' '15432' '15678' '14827'\n",
      " '16283' '15296' '15399' '16273' '13599' '12881' '15566' '15465' '13514'\n",
      " '15807' '16124' '15575' '7032' '13078' '14569' '16068' '16138' '14699'\n",
      " '16269' '15353' '15162' '14712' '15763' '13416' '15461' '41' '14374'\n",
      " '15180' '16011' '1662' '14845' '14657' '16247' '15940' '15576' '16281'\n",
      " '16069' '15785' '15784' '16211' '16038' '15857' '14977' '15120' '13460'\n",
      " '15345' '14090' '16155' '15033' '15106' '15787' '15715' '10814' '15343'\n",
      " '15456' '15759' '16472' '15664' '16037' '16277' '15316' '14676' '2361'\n",
      " '15457' '13516' '16307' '15808' '15776' '16097' '16498' '16065' '15531'\n",
      " '15941' '10459' '16320' '15663' '15910']\n"
     ]
    }
   ],
   "source": [
    "\n",
    "print(web4['id_web'].unique())"
   ]
  },
  {
   "cell_type": "code",
   "execution_count": 248,
   "metadata": {},
   "outputs": [
    {
     "name": "stdout",
     "output_type": "stream",
     "text": [
      "Unique id_web values in merged_erp_liaison but not in web3:\n",
      "19         nan\n",
      "186      13771\n",
      "228      15065\n",
      "231      14785\n",
      "335      12601\n",
      "369      15154\n",
      "372      14360\n",
      "400      15608\n",
      "401      15586\n",
      "444      15272\n",
      "446      15630\n",
      "494      14648\n",
      "511      14715\n",
      "517      14730\n",
      "582      14689\n",
      "626      14379\n",
      "627      15609\n",
      "628      14377\n",
      "630      13577\n",
      "653      15529\n",
      "733    14680-1\n",
      "dtype: object\n",
      "Unique id_web values in web3 but not in merged_erp_liaison:\n",
      "Series([], dtype: object)\n"
     ]
    }
   ],
   "source": [
    "unique_ids_merged = pd.Series(merged_erp_liaison['id_web'].unique())\n",
    "unique_ids_web4 = pd.Series(web4['id_web'].unique())\n",
    "\n",
    "# Compare unique values\n",
    "print(\"Unique id_web values in merged_erp_liaison but not in web3:\")\n",
    "print(unique_ids_merged[~unique_ids_merged.isin(unique_ids_web4)])\n",
    "\n",
    "print(\"Unique id_web values in web3 but not in merged_erp_liaison:\")\n",
    "print(unique_ids_web4[~unique_ids_web4.isin(unique_ids_merged)])"
   ]
  },
  {
   "cell_type": "code",
   "execution_count": 249,
   "metadata": {},
   "outputs": [
    {
     "name": "stdout",
     "output_type": "stream",
     "text": [
      "<class 'pandas.core.frame.DataFrame'>\n",
      "RangeIndex: 825 entries, 0 to 824\n",
      "Data columns (total 29 columns):\n",
      " #   Column             Non-Null Count  Dtype         \n",
      "---  ------             --------------  -----         \n",
      " 0   product_id         825 non-null    int64         \n",
      " 1   onsale_web         825 non-null    int64         \n",
      " 2   price              825 non-null    float64       \n",
      " 3   stock_quantity     825 non-null    int64         \n",
      " 4   stock_status       825 non-null    object        \n",
      " 5   id_web             825 non-null    object        \n",
      " 6   virtual            714 non-null    float64       \n",
      " 7   downloadable       714 non-null    float64       \n",
      " 8   rating_count       714 non-null    float64       \n",
      " 9   average_rating     714 non-null    float64       \n",
      " 10  total_sales        714 non-null    float64       \n",
      " 11  tax_status         714 non-null    object        \n",
      " 12  post_author        714 non-null    float64       \n",
      " 13  post_date          714 non-null    datetime64[ns]\n",
      " 14  post_date_gmt      714 non-null    datetime64[ns]\n",
      " 15  post_title         714 non-null    object        \n",
      " 16  post_excerpt       714 non-null    object        \n",
      " 17  post_status        714 non-null    object        \n",
      " 18  comment_status     714 non-null    object        \n",
      " 19  ping_status        714 non-null    object        \n",
      " 20  post_name          714 non-null    object        \n",
      " 21  post_modified      714 non-null    datetime64[ns]\n",
      " 22  post_modified_gmt  714 non-null    datetime64[ns]\n",
      " 23  post_parent        714 non-null    float64       \n",
      " 24  guid               714 non-null    object        \n",
      " 25  menu_order         714 non-null    float64       \n",
      " 26  post_type          714 non-null    object        \n",
      " 27  post_mime_type     0 non-null      object        \n",
      " 28  comment_count      714 non-null    float64       \n",
      "dtypes: datetime64[ns](4), float64(10), int64(3), object(12)\n",
      "memory usage: 187.0+ KB\n"
     ]
    }
   ],
   "source": [
    "final_merged_df_outer = pd.merge(merged_erp_liaison, web4, how='outer', left_on='id_web', right_on='id_web')\n",
    "\n",
    "final_merged_df_outer.info()"
   ]
  },
  {
   "cell_type": "code",
   "execution_count": 250,
   "metadata": {},
   "outputs": [
    {
     "name": "stdout",
     "output_type": "stream",
     "text": [
      "<class 'pandas.core.frame.DataFrame'>\n",
      "RangeIndex: 825 entries, 0 to 824\n",
      "Data columns (total 29 columns):\n",
      " #   Column             Non-Null Count  Dtype         \n",
      "---  ------             --------------  -----         \n",
      " 0   product_id         825 non-null    int64         \n",
      " 1   onsale_web         825 non-null    int64         \n",
      " 2   price              825 non-null    float64       \n",
      " 3   stock_quantity     825 non-null    int64         \n",
      " 4   stock_status       825 non-null    object        \n",
      " 5   id_web             825 non-null    object        \n",
      " 6   virtual            714 non-null    float64       \n",
      " 7   downloadable       714 non-null    float64       \n",
      " 8   rating_count       714 non-null    float64       \n",
      " 9   average_rating     714 non-null    float64       \n",
      " 10  total_sales        714 non-null    float64       \n",
      " 11  tax_status         714 non-null    object        \n",
      " 12  post_author        714 non-null    float64       \n",
      " 13  post_date          714 non-null    datetime64[ns]\n",
      " 14  post_date_gmt      714 non-null    datetime64[ns]\n",
      " 15  post_title         714 non-null    object        \n",
      " 16  post_excerpt       714 non-null    object        \n",
      " 17  post_status        714 non-null    object        \n",
      " 18  comment_status     714 non-null    object        \n",
      " 19  ping_status        714 non-null    object        \n",
      " 20  post_name          714 non-null    object        \n",
      " 21  post_modified      714 non-null    datetime64[ns]\n",
      " 22  post_modified_gmt  714 non-null    datetime64[ns]\n",
      " 23  post_parent        714 non-null    float64       \n",
      " 24  guid               714 non-null    object        \n",
      " 25  menu_order         714 non-null    float64       \n",
      " 26  post_type          714 non-null    object        \n",
      " 27  post_mime_type     0 non-null      object        \n",
      " 28  comment_count      714 non-null    float64       \n",
      "dtypes: datetime64[ns](4), float64(10), int64(3), object(12)\n",
      "memory usage: 187.0+ KB\n"
     ]
    }
   ],
   "source": [
    "final_merged_df_outer.info()"
   ]
  },
  {
   "cell_type": "markdown",
   "metadata": {},
   "source": [
    "<font color='orange'>NB:Notre df combine 2 types de produit, qui sont comercialisés vers le site web et qui ne sont pas comercialisés avec le site web. Pour une analyse plus juste nous allons travailler avec les produits vendu sur le web qui corespondent à notre inner join .  </font>"
   ]
  },
  {
   "cell_type": "code",
   "execution_count": 251,
   "metadata": {},
   "outputs": [],
   "source": [
    "web_products=final_merged_df_inner"
   ]
  },
  {
   "cell_type": "code",
   "execution_count": 252,
   "metadata": {},
   "outputs": [
    {
     "name": "stdout",
     "output_type": "stream",
     "text": [
      "Unique prices in descending order:\n",
      "313    225.0\n",
      "133    217.5\n",
      "181    191.3\n",
      "356    176.0\n",
      "211    175.0\n",
      "       ...  \n",
      "262      5.8\n",
      "116      5.7\n",
      "131      5.2\n",
      "381     -1.0\n",
      "374     -8.0\n",
      "Length: 382, dtype: float64\n"
     ]
    }
   ],
   "source": [
    "#ce code est seulement pour l'outer join!!!!\n",
    "unique_price = pd.Series(final_merged_df_outer['price'].unique())\n",
    "unique_price_sorted = unique_price.sort_values(ascending=False)\n",
    "\n",
    "\n",
    "print(\"Unique prices in descending order:\")\n",
    "print(unique_price_sorted)"
   ]
  },
  {
   "cell_type": "code",
   "execution_count": 253,
   "metadata": {},
   "outputs": [],
   "source": [
    "final_merged_df_outer['price'] = final_merged_df_outer['price'].abs()"
   ]
  },
  {
   "cell_type": "markdown",
   "metadata": {},
   "source": [
    "<font color='red'>CONCLUSION: 2 errors de prix car negative que nous allons changer en valeur absolu</font>"
   ]
  },
  {
   "cell_type": "code",
   "execution_count": 254,
   "metadata": {},
   "outputs": [
    {
     "name": "stdout",
     "output_type": "stream",
     "text": [
      "inconsistencies between 'stock_quantity' and 'stock_status':\n",
      "     product_id  onsale_web  price  stock_quantity stock_status  \\\n",
      "528        5700           1   44.5              -1   outofstock   \n",
      "582        5826           1   41.2              12   outofstock   \n",
      "410        4954           1   25.0               0      instock   \n",
      "\n",
      "                  id_web  virtual  downloadable  rating_count  average_rating  \\\n",
      "528                14736        0             0             0             0.0   \n",
      "582                15325        0             0             0             0.0   \n",
      "410  bon-cadeau-25-euros        0             0             0             0.0   \n",
      "\n",
      "     ...  ping_status                                          post_name  \\\n",
      "528  ...       closed  gilles-robin-crozes-hermitage-rouge-1920-2016-...   \n",
      "582  ...       closed                         agnes-levet-amethyste-2017   \n",
      "410  ...       closed                             bon-cadeau-de-25-euros   \n",
      "\n",
      "          post_modified   post_modified_gmt post_parent  \\\n",
      "528 2020-04-21 10:45:03 2020-04-21 08:45:03         0.0   \n",
      "582 2020-05-21 14:00:02 2020-05-21 12:00:02         0.0   \n",
      "410 2018-06-01 14:13:57 2018-06-01 12:13:57         0.0   \n",
      "\n",
      "                                                  guid menu_order post_type  \\\n",
      "528  https://www.bottle-neck.fr/?post_type=product&...        0.0   product   \n",
      "582  https://www.bottle-neck.fr/?post_type=product&...        0.0   product   \n",
      "410  https://www.bottle-neck.fr/?post_type=product&...        0.0   product   \n",
      "\n",
      "    post_mime_type comment_count  \n",
      "528            NaN           0.0  \n",
      "582            NaN           0.0  \n",
      "410            NaN           0.0  \n",
      "\n",
      "[3 rows x 29 columns]\n",
      "Rows where 'stock_status' is 'outofstock' but 'stock_quantity' is not 0:\n",
      "     product_id  onsale_web  price  stock_quantity stock_status id_web  \\\n",
      "528        5700           1   44.5              -1   outofstock  14736   \n",
      "582        5826           1   41.2              12   outofstock  15325   \n",
      "\n",
      "     virtual  downloadable  rating_count  average_rating  ...  ping_status  \\\n",
      "528        0             0             0             0.0  ...       closed   \n",
      "582        0             0             0             0.0  ...       closed   \n",
      "\n",
      "                                             post_name       post_modified  \\\n",
      "528  gilles-robin-crozes-hermitage-rouge-1920-2016-... 2020-04-21 10:45:03   \n",
      "582                         agnes-levet-amethyste-2017 2020-05-21 14:00:02   \n",
      "\n",
      "      post_modified_gmt post_parent  \\\n",
      "528 2020-04-21 08:45:03         0.0   \n",
      "582 2020-05-21 12:00:02         0.0   \n",
      "\n",
      "                                                  guid menu_order post_type  \\\n",
      "528  https://www.bottle-neck.fr/?post_type=product&...        0.0   product   \n",
      "582  https://www.bottle-neck.fr/?post_type=product&...        0.0   product   \n",
      "\n",
      "    post_mime_type comment_count  \n",
      "528            NaN           0.0  \n",
      "582            NaN           0.0  \n",
      "\n",
      "[2 rows x 29 columns]\n",
      "Rows where 'stock_quantity' is 0 but 'stock_status' is not 'outofstock':\n",
      "     product_id  onsale_web  price  stock_quantity stock_status  \\\n",
      "410        4954           1   25.0               0      instock   \n",
      "\n",
      "                  id_web  virtual  downloadable  rating_count  average_rating  \\\n",
      "410  bon-cadeau-25-euros        0             0             0             0.0   \n",
      "\n",
      "     ...  ping_status               post_name       post_modified  \\\n",
      "410  ...       closed  bon-cadeau-de-25-euros 2018-06-01 14:13:57   \n",
      "\n",
      "      post_modified_gmt post_parent  \\\n",
      "410 2018-06-01 12:13:57         0.0   \n",
      "\n",
      "                                                  guid menu_order post_type  \\\n",
      "410  https://www.bottle-neck.fr/?post_type=product&...        0.0   product   \n",
      "\n",
      "    post_mime_type comment_count  \n",
      "410            NaN           0.0  \n",
      "\n",
      "[1 rows x 29 columns]\n"
     ]
    }
   ],
   "source": [
    "invalid_quantity_outofstock = web_products[(web_products['stock_status'] == 'outofstock') & (web_products['stock_quantity'] != 0)]\n",
    "\n",
    "\n",
    "invalid_status_zero_quantity = web_products[(web_products['stock_quantity'] == 0) & (web_products['stock_status'] != 'outofstock')]\n",
    "\n",
    "\n",
    "invalid_rows = pd.concat([invalid_quantity_outofstock, invalid_status_zero_quantity])\n",
    "\n",
    "\n",
    "if not invalid_rows.empty:\n",
    "    print(\"inconsistencies between 'stock_quantity' and 'stock_status':\")\n",
    "    print(invalid_rows)\n",
    "else:\n",
    "    print(\"No inconsistencies between 'stock_quantity' and 'stock_status'.\")\n",
    "\n",
    "if not invalid_quantity_outofstock.empty:\n",
    "    print(\"Rows where 'stock_status' is 'outofstock' but 'stock_quantity' is not 0:\")\n",
    "    print(invalid_quantity_outofstock)\n",
    "\n",
    "if not invalid_status_zero_quantity.empty:\n",
    "    print(\"Rows where 'stock_quantity' is 0 but 'stock_status' is not 'outofstock':\")\n",
    "    print(invalid_status_zero_quantity)"
   ]
  },
  {
   "cell_type": "markdown",
   "metadata": {},
   "source": [
    "<font color='red'>CONCLUSION: il y a des produits qui ont des quantités en stock mais le status est \"outofstock\"</font>"
   ]
  },
  {
   "cell_type": "markdown",
   "metadata": {},
   "source": [
    "<font color='orange'>NB:Nous avons pu corriger les erreurs des specification incorrect dans le statut de stock comme precisé sur le code ci-dessous, neanmoins nous les avons gardé telles qu'elles etaient et on laisse le choix à notre client de faire cette corection. pour l'excercise il y avait un df utilisés piur proceder avec le netoyage mais qui ne sera pas retenu pour les analyses. Pour les analyses on reviens à notre df \"final_merged_df_outer\"</font>"
   ]
  },
  {
   "cell_type": "code",
   "execution_count": 255,
   "metadata": {},
   "outputs": [],
   "source": [
    "#new_df = web_products.copy()  \n",
    "#new_df.loc[new_df['stock_quantity'] > 0, 'stock_status'] = 'instock'\n",
    "\n",
    "#print(\"New DataFrame with updated 'stock_status' for positive 'stock_quantity':\")\n",
    "#print(new_df)"
   ]
  },
  {
   "cell_type": "markdown",
   "metadata": {},
   "source": [
    "Et pour verifier si c'est bien...."
   ]
  },
  {
   "cell_type": "code",
   "execution_count": 256,
   "metadata": {},
   "outputs": [],
   "source": [
    "#checkquantity_df = new_df[(new_df['stock_status'] == 'outofstock') & (new_df['stock_quantity'] > 0)]\n",
    "\n",
    "#print(\"Rows where 'stock_status' is 'outofstock' but 'stock_quantity' > 0:\")\n",
    "#print(print(checkquantity_df))"
   ]
  },
  {
   "cell_type": "markdown",
   "metadata": {},
   "source": [
    "OU"
   ]
  },
  {
   "cell_type": "code",
   "execution_count": 257,
   "metadata": {},
   "outputs": [],
   "source": [
    "#checkquantity_df2 = new_df[(new_df['stock_status'] == 'outofstock') & (new_df['stock_quantity'] <= 0)]\n",
    "\n",
    "#print(\"Rows where 'stock_status' is 'instock' and 'stock_quantity' <= 0:\")\n",
    "#print(print(checkquantity_df2))"
   ]
  },
  {
   "cell_type": "markdown",
   "metadata": {},
   "source": [
    "<font color='orange'>Nous allons verifier aussi si tout les produits avec status 'onsale_web\" ont un \"id_web\"</font>"
   ]
  },
  {
   "cell_type": "code",
   "execution_count": 258,
   "metadata": {},
   "outputs": [
    {
     "name": "stdout",
     "output_type": "stream",
     "text": [
      "No inconsistency regarding web sale.\n"
     ]
    }
   ],
   "source": [
    "result_check_sale_web = web_products[(web_products['id_web'].notna()) & (web_products['onsale_web'] == 0)]\n",
    "\n",
    "if not result_check_sale_web.empty:\n",
    "    print(\"inconsistency web sale:\")\n",
    "    print(result_check_sale_web)\n",
    "else:\n",
    "    print(\"No inconsistency regarding web sale.\")"
   ]
  },
  {
   "cell_type": "code",
   "execution_count": 259,
   "metadata": {},
   "outputs": [
    {
     "name": "stdout",
     "output_type": "stream",
     "text": [
      "<class 'pandas.core.frame.DataFrame'>\n",
      "RangeIndex: 714 entries, 0 to 713\n",
      "Data columns (total 29 columns):\n",
      " #   Column             Non-Null Count  Dtype         \n",
      "---  ------             --------------  -----         \n",
      " 0   product_id         714 non-null    int64         \n",
      " 1   onsale_web         714 non-null    int64         \n",
      " 2   price              714 non-null    float64       \n",
      " 3   stock_quantity     714 non-null    int64         \n",
      " 4   stock_status       714 non-null    object        \n",
      " 5   id_web             714 non-null    object        \n",
      " 6   virtual            714 non-null    int64         \n",
      " 7   downloadable       714 non-null    int64         \n",
      " 8   rating_count       714 non-null    int64         \n",
      " 9   average_rating     714 non-null    float64       \n",
      " 10  total_sales        714 non-null    float64       \n",
      " 11  tax_status         714 non-null    object        \n",
      " 12  post_author        714 non-null    float64       \n",
      " 13  post_date          714 non-null    datetime64[ns]\n",
      " 14  post_date_gmt      714 non-null    datetime64[ns]\n",
      " 15  post_title         714 non-null    object        \n",
      " 16  post_excerpt       714 non-null    object        \n",
      " 17  post_status        714 non-null    object        \n",
      " 18  comment_status     714 non-null    object        \n",
      " 19  ping_status        714 non-null    object        \n",
      " 20  post_name          714 non-null    object        \n",
      " 21  post_modified      714 non-null    datetime64[ns]\n",
      " 22  post_modified_gmt  714 non-null    datetime64[ns]\n",
      " 23  post_parent        714 non-null    float64       \n",
      " 24  guid               714 non-null    object        \n",
      " 25  menu_order         714 non-null    float64       \n",
      " 26  post_type          714 non-null    object        \n",
      " 27  post_mime_type     0 non-null      object        \n",
      " 28  comment_count      714 non-null    float64       \n",
      "dtypes: datetime64[ns](4), float64(7), int64(6), object(12)\n",
      "memory usage: 161.9+ KB\n"
     ]
    }
   ],
   "source": [
    "web_products.info()"
   ]
  },
  {
   "cell_type": "code",
   "execution_count": 260,
   "metadata": {},
   "outputs": [],
   "source": [
    "import numpy as np"
   ]
  },
  {
   "cell_type": "markdown",
   "metadata": {},
   "source": [
    "<font color='orange'>On va verifier s'il y a des web_id qui ne correspondent pas à la forme numerique normale</font>"
   ]
  },
  {
   "cell_type": "code",
   "execution_count": 279,
   "metadata": {},
   "outputs": [
    {
     "name": "stdout",
     "output_type": "stream",
     "text": [
      "Rows with non-numeric characters in 'id_web' column:\n",
      "     product_id  onsale_web  price  stock_quantity stock_status  \\\n",
      "410        4954           1   25.0               0      instock   \n",
      "712        7247           1   54.8              23      instock   \n",
      "\n",
      "                  id_web  virtual  downloadable  rating_count  average_rating  \\\n",
      "410  bon-cadeau-25-euros        0             0             0             0.0   \n",
      "712              13127-1        0             0             0             0.0   \n",
      "\n",
      "     ...                                       post_name       post_modified  \\\n",
      "410  ...                          bon-cadeau-de-25-euros 2018-06-01 14:13:57   \n",
      "712  ...  clos-du-mont-olivet-chateauneuf-du-pape-2007-2 2020-07-20 17:09:06   \n",
      "\n",
      "      post_modified_gmt post_parent  \\\n",
      "410 2018-06-01 12:13:57         0.0   \n",
      "712 2020-07-20 15:09:06         0.0   \n",
      "\n",
      "                                                  guid menu_order post_type  \\\n",
      "410  https://www.bottle-neck.fr/?post_type=product&...        0.0   product   \n",
      "712  https://www.bottle-neck.fr/?post_type=product&...        0.0   product   \n",
      "\n",
      "    post_mime_type comment_count chiffre_affaires  \n",
      "410            NaN           0.0            250.0  \n",
      "712            NaN           0.0              0.0  \n",
      "\n",
      "[2 rows x 30 columns]\n"
     ]
    }
   ],
   "source": [
    "def find_non_numeric_ids(web_products, id_web):\n",
    "    \n",
    "    non_numeric_mask = web_products['id_web'].str.contains(r'\\D', na=False)\n",
    "    non_numeric_ids_df = web_products[non_numeric_mask]\n",
    "    return non_numeric_ids_df\n",
    "\n",
    "\n",
    "non_numeric_ids_df = find_non_numeric_ids(web_products, 'id_web')\n",
    "\n",
    "if not non_numeric_ids_df.empty:\n",
    "    print(\"Rows with non-numeric characters in 'id_web' column:\")\n",
    "    print(non_numeric_ids_df)\n",
    "else:\n",
    "    print(\"No rows with non-numeric characters found in 'id_web' column.\")"
   ]
  },
  {
   "cell_type": "markdown",
   "metadata": {},
   "source": [
    "<font color='red'>CONCLUSION: le 13127-1 c'est bien un produit , par contre le bon_cadeau il vaut mieux le supprimer car c'est pas un produit en vent et va perturber nos analyses. Nous laisson neanmoins le choix au client</font>"
   ]
  },
  {
   "cell_type": "code",
   "execution_count": 262,
   "metadata": {},
   "outputs": [],
   "source": [
    "web_products_cleaned = web_products[web_products['id_web'] != 'bon-cadeau-25-euros']"
   ]
  },
  {
   "cell_type": "markdown",
   "metadata": {},
   "source": [
    "## <span style='color:violet'>analyse du fichier fusioné</span>"
   ]
  },
  {
   "cell_type": "markdown",
   "metadata": {},
   "source": [
    "<font color='orange'>Chiffre d'affaire total</font>"
   ]
  },
  {
   "cell_type": "code",
   "execution_count": 263,
   "metadata": {},
   "outputs": [],
   "source": [
    "web_products['chiffre_affaires'] = web_products['price'] * web_products['total_sales']"
   ]
  },
  {
   "cell_type": "code",
   "execution_count": 264,
   "metadata": {},
   "outputs": [
    {
     "name": "stdout",
     "output_type": "stream",
     "text": [
      "70568.6\n"
     ]
    }
   ],
   "source": [
    "total_ca_webproducts = web_products['chiffre_affaires'].sum()\n",
    "print(total_ca_webproducts)"
   ]
  },
  {
   "cell_type": "code",
   "execution_count": 265,
   "metadata": {},
   "outputs": [
    {
     "data": {
      "text/plain": [
       "0      145.2\n",
       "1        0.0\n",
       "2        0.0\n",
       "3       42.3\n",
       "4        0.0\n",
       "       ...  \n",
       "709     42.0\n",
       "710      0.0\n",
       "711      0.0\n",
       "712      0.0\n",
       "713      0.0\n",
       "Name: chiffre_affaires, Length: 714, dtype: float64"
      ]
     },
     "execution_count": 265,
     "metadata": {},
     "output_type": "execute_result"
    }
   ],
   "source": [
    "web_products['id_web']; web_products['chiffre_affaires'] "
   ]
  },
  {
   "cell_type": "code",
   "execution_count": 280,
   "metadata": {},
   "outputs": [
    {
     "name": "stdout",
     "output_type": "stream",
     "text": [
      "98.83557422969189\n"
     ]
    }
   ],
   "source": [
    "average_ca_webproducts = web_products['chiffre_affaires'].mean()\n",
    "print(average_ca_webproducts)"
   ]
  },
  {
   "cell_type": "code",
   "execution_count": 266,
   "metadata": {},
   "outputs": [],
   "source": [
    "#filtered_df_merged = cleaned_df_merged[cleaned_df_merged['id_web'] != 'bon-cadeau-25-euros']"
   ]
  },
  {
   "cell_type": "markdown",
   "metadata": {},
   "source": [
    "<font color='orange'>Top 10 ventes</font>"
   ]
  },
  {
   "cell_type": "code",
   "execution_count": 267,
   "metadata": {},
   "outputs": [
    {
     "name": "stdout",
     "output_type": "stream",
     "text": [
      "Top 10 rows sorted by 'total_sales':\n",
      "    id_web  total_sales  chiffre_affaires\n",
      "194   7818         96.0            4704.0\n",
      "71    1662         87.0            4263.0\n",
      "30   16416         62.0            1029.2\n",
      "119  16295         46.0             266.8\n",
      "97   16210         43.0             245.1\n",
      "109  16189         42.0             558.6\n",
      "651  16580         41.0            1033.2\n",
      "69     304         40.0            1560.0\n",
      "625  16264         38.0             414.2\n",
      "324     38         38.0             326.8\n"
     ]
    }
   ],
   "source": [
    "selected_columns_TS = web_products[['id_web', 'total_sales', 'chiffre_affaires']]\n",
    "\n",
    "\n",
    "top_10_products= selected_columns_TS.sort_values(by='total_sales', ascending=False).head(10)\n",
    "\n",
    "# Display the top 10 rows sorted by 'total_sales'\n",
    "print(\"Top 10 rows sorted by 'total_sales':\")\n",
    "print(top_10_products)"
   ]
  },
  {
   "cell_type": "markdown",
   "metadata": {},
   "source": [
    "<font color='orange'>Recherche des outliers</font>"
   ]
  },
  {
   "cell_type": "code",
   "execution_count": 268,
   "metadata": {},
   "outputs": [
    {
     "name": "stderr",
     "output_type": "stream",
     "text": [
      "C:\\Users\\cokre\\AppData\\Local\\Temp\\ipykernel_122336\\414497187.py:6: FutureWarning: \n",
      "\n",
      "Passing `palette` without assigning `hue` is deprecated and will be removed in v0.14.0. Assign the `y` variable to `hue` and set `legend=False` for the same effect.\n",
      "\n",
      "  sns.boxplot(x=web_products['price'], orient='h', width=0.5, linewidth=2.5, palette='pastel')\n"
     ]
    },
    {
     "data": {
      "image/png": "[encoded data removed]",
      "text/plain": [
       "<Figure size 1000x800 with 1 Axes>"
      ]
     },
     "metadata": {},
     "output_type": "display_data"
    }
   ],
   "source": [
    "import matplotlib.pyplot as plt\n",
    "import seaborn as sns  \n",
    "\n",
    "\n",
    "plt.figure(figsize=(10, 8))\n",
    "sns.boxplot(x=web_products['price'], orient='h', width=0.5, linewidth=2.5, palette='pastel')\n",
    "\n",
    "\n",
    "plt.title('Distribution des prix', fontsize=14)\n",
    "plt.xlabel('prix', fontsize=12)\n",
    "\n",
    "Q1 = web_products['price'].quantile(0.25)\n",
    "Q3 = web_products['price'].quantile(0.75)\n",
    "median = web_products['price'].median()\n",
    "plt.axvline(x=Q1, color='r', linestyle='--', linewidth=2, label='Q1')\n",
    "plt.axvline(x=Q3, color='g', linestyle='--', linewidth=2, label='Q3')\n",
    "plt.axvline(x=median, color='b', linestyle='-', linewidth=2, label='Median')\n",
    "\n",
    "IQR = Q3 - Q1\n",
    "lower_bound = Q1 - 1.5 * IQR\n",
    "upper_bound = Q3 + 1.5 * IQR\n",
    "outliers = web_products[(web_products['price'] < lower_bound) | (web_products['price'] > upper_bound)]\n",
    "\n",
    "plt.scatter(outliers['price'], [0] * len(outliers), color='red', label='Outliers', s=100, marker='o')\n",
    "\n",
    "plt.legend()\n",
    "\n",
    "plt.show()\n"
   ]
  },
  {
   "cell_type": "code",
   "execution_count": 269,
   "metadata": {},
   "outputs": [
    {
     "name": "stdout",
     "output_type": "stream",
     "text": [
      "Requirement already satisfied: seaborn in c:\\users\\cokre\\appdata\\local\\packages\\pythonsoftwarefoundation.python.3.11_qbz5n2kfra8p0\\localcache\\local-packages\\python311\\site-packages (0.13.2)\n",
      "Requirement already satisfied: numpy!=1.24.0,>=1.20 in c:\\users\\cokre\\appdata\\local\\packages\\pythonsoftwarefoundation.python.3.11_qbz5n2kfra8p0\\localcache\\local-packages\\python311\\site-packages (from seaborn) (1.26.4)\n",
      "Requirement already satisfied: pandas>=1.2 in c:\\users\\cokre\\appdata\\local\\packages\\pythonsoftwarefoundation.python.3.11_qbz5n2kfra8p0\\localcache\\local-packages\\python311\\site-packages (from seaborn) (2.2.2)\n",
      "Requirement already satisfied: matplotlib!=3.6.1,>=3.4 in c:\\users\\cokre\\appdata\\local\\packages\\pythonsoftwarefoundation.python.3.11_qbz5n2kfra8p0\\localcache\\local-packages\\python311\\site-packages (from seaborn) (3.8.4)\n",
      "Requirement already satisfied: contourpy>=1.0.1 in c:\\users\\cokre\\appdata\\local\\packages\\pythonsoftwarefoundation.python.3.11_qbz5n2kfra8p0\\localcache\\local-packages\\python311\\site-packages (from matplotlib!=3.6.1,>=3.4->seaborn) (1.2.1)\n",
      "Requirement already satisfied: cycler>=0.10 in c:\\users\\cokre\\appdata\\local\\packages\\pythonsoftwarefoundation.python.3.11_qbz5n2kfra8p0\\localcache\\local-packages\\python311\\site-packages (from matplotlib!=3.6.1,>=3.4->seaborn) (0.12.1)\n",
      "Requirement already satisfied: fonttools>=4.22.0 in c:\\users\\cokre\\appdata\\local\\packages\\pythonsoftwarefoundation.python.3.11_qbz5n2kfra8p0\\localcache\\local-packages\\python311\\site-packages (from matplotlib!=3.6.1,>=3.4->seaborn) (4.51.0)\n",
      "Requirement already satisfied: kiwisolver>=1.3.1 in c:\\users\\cokre\\appdata\\local\\packages\\pythonsoftwarefoundation.python.3.11_qbz5n2kfra8p0\\localcache\\local-packages\\python311\\site-packages (from matplotlib!=3.6.1,>=3.4->seaborn) (1.4.5)\n",
      "Requirement already satisfied: packaging>=20.0 in c:\\users\\cokre\\appdata\\local\\packages\\pythonsoftwarefoundation.python.3.11_qbz5n2kfra8p0\\localcache\\local-packages\\python311\\site-packages (from matplotlib!=3.6.1,>=3.4->seaborn) (23.1)\n",
      "Requirement already satisfied: pillow>=8 in c:\\users\\cokre\\appdata\\local\\packages\\pythonsoftwarefoundation.python.3.11_qbz5n2kfra8p0\\localcache\\local-packages\\python311\\site-packages (from matplotlib!=3.6.1,>=3.4->seaborn) (10.3.0)\n",
      "Requirement already satisfied: pyparsing>=2.3.1 in c:\\users\\cokre\\appdata\\local\\packages\\pythonsoftwarefoundation.python.3.11_qbz5n2kfra8p0\\localcache\\local-packages\\python311\\site-packages (from matplotlib!=3.6.1,>=3.4->seaborn) (3.1.2)\n",
      "Requirement already satisfied: python-dateutil>=2.7 in c:\\users\\cokre\\appdata\\local\\packages\\pythonsoftwarefoundation.python.3.11_qbz5n2kfra8p0\\localcache\\local-packages\\python311\\site-packages (from matplotlib!=3.6.1,>=3.4->seaborn) (2.8.2)\n",
      "Requirement already satisfied: pytz>=2020.1 in c:\\users\\cokre\\appdata\\local\\packages\\pythonsoftwarefoundation.python.3.11_qbz5n2kfra8p0\\localcache\\local-packages\\python311\\site-packages (from pandas>=1.2->seaborn) (2024.1)\n",
      "Requirement already satisfied: tzdata>=2022.7 in c:\\users\\cokre\\appdata\\local\\packages\\pythonsoftwarefoundation.python.3.11_qbz5n2kfra8p0\\localcache\\local-packages\\python311\\site-packages (from pandas>=1.2->seaborn) (2024.1)\n",
      "Requirement already satisfied: six>=1.5 in c:\\users\\cokre\\appdata\\local\\packages\\pythonsoftwarefoundation.python.3.11_qbz5n2kfra8p0\\localcache\\local-packages\\python311\\site-packages (from python-dateutil>=2.7->matplotlib!=3.6.1,>=3.4->seaborn) (1.16.0)\n",
      "Note: you may need to restart the kernel to use updated packages.\n"
     ]
    }
   ],
   "source": [
    "pip install seaborn"
   ]
  },
  {
   "cell_type": "code",
   "execution_count": 270,
   "metadata": {},
   "outputs": [
    {
     "name": "stdout",
     "output_type": "stream",
     "text": [
      "Outliers:\n",
      "    id_web  price\n",
      "63   15382  100.0\n",
      "65   11668   88.4\n",
      "199  15940  225.0\n",
      "201  12589  126.5\n",
      "205  13853   85.6\n",
      "218   3510  176.0\n",
      "219   3507  108.5\n",
      "221   7819  157.0\n",
      "222   3509  104.0\n",
      "227  12857  109.6\n",
      "380  14805  102.3\n",
      "381  14220  137.0\n",
      "426  14581  217.5\n",
      "431  12791  105.0\n",
      "432  11602  105.0\n",
      "437  13914  112.0\n",
      "438  13913   86.8\n",
      "502  19822   92.0\n",
      "511  14915  124.8\n",
      "553  15185  175.0\n",
      "587  14983  191.3\n",
      "602  14774   93.0\n",
      "603  14775  122.0\n",
      "604  14773  114.0\n",
      "642  14923  135.0\n",
      "647  14596  105.6\n",
      "648  15126  116.4\n",
      "653  13996  115.0\n",
      "654  15072  121.0\n",
      "655  11601   99.0\n",
      "656  12790  115.0\n",
      "657  15070  121.0\n"
     ]
    }
   ],
   "source": [
    "outliers_df = web_products[(web_products['price'] < lower_bound) | (web_products['price'] > upper_bound)]\n",
    "\n",
    "print(\"Outliers:\")\n",
    "print(outliers_df[['id_web', 'price']])\n"
   ]
  },
  {
   "cell_type": "code",
   "execution_count": 281,
   "metadata": {},
   "outputs": [
    {
     "name": "stdout",
     "output_type": "stream",
     "text": [
      "Q1 => 14.1\n",
      "Q3 => 42.175000000000004\n",
      "IQR => 28.075000000000003\n",
      "Lower_bound => -28.012500000000003\n",
      "Upper_bound => 84.28750000000001\n"
     ]
    }
   ],
   "source": [
    "price = sorted(web_products['price'])\n",
    "\n",
    "q1, q3= np.percentile(price,[25,75])\n",
    "iqr = q3 - q1\n",
    "print(\"Q1 => \" + str(q1))\n",
    "print(\"Q3 => \" + str(q3))\n",
    "print(\"IQR => \" + str(iqr))\n",
    "\n",
    "lower_bound = q1 -(1.5 * iqr)\n",
    "upper_bound = q3 +(1.5 * iqr)\n",
    "print(\"Lower_bound => \" + str(lower_bound))\n",
    "print(\"Upper_bound => \" + str(upper_bound))\n",
    "\n",
    "result = web_products[(web_products['price'] > upper_bound) | (web_products['price'] < lower_bound)]\n",
    "\n",
    "result2 = web_products[(web_products['price'] < upper_bound)]"
   ]
  },
  {
   "cell_type": "code",
   "execution_count": 282,
   "metadata": {},
   "outputs": [
    {
     "name": "stdout",
     "output_type": "stream",
     "text": [
      "     product_id  onsale_web  price  stock_quantity stock_status   id_web  \\\n",
      "0          3847           1   24.2               0   outofstock    15298   \n",
      "1          3849           1   34.3               0   outofstock    15296   \n",
      "2          3850           1   20.8               0   outofstock    15300   \n",
      "3          4032           1   14.1               0   outofstock    19814   \n",
      "4          4039           1   46.0               0   outofstock    19815   \n",
      "..          ...         ...    ...             ...          ...      ...   \n",
      "709        6930           1    8.4              83      instock    16135   \n",
      "710        7023           1   27.5              15      instock    15891   \n",
      "711        7025           1   69.0               2      instock    15887   \n",
      "712        7247           1   54.8              23      instock  13127-1   \n",
      "713        7338           1   16.3              45      instock    16230   \n",
      "\n",
      "     virtual  downloadable  rating_count  average_rating  ...  \\\n",
      "0          0             0             0             0.0  ...   \n",
      "1          0             0             0             0.0  ...   \n",
      "2          0             0             0             0.0  ...   \n",
      "3          0             0             0             0.0  ...   \n",
      "4          0             0             0             0.0  ...   \n",
      "..       ...           ...           ...             ...  ...   \n",
      "709        0             0             0             0.0  ...   \n",
      "710        0             0             0             0.0  ...   \n",
      "711        0             0             0             0.0  ...   \n",
      "712        0             0             0             0.0  ...   \n",
      "713        0             0             0             0.0  ...   \n",
      "\n",
      "                                             post_name       post_modified  \\\n",
      "0          pierre-jean-villa-saint-joseph-preface-2018 2019-12-30 09:30:29   \n",
      "1            pierre-jean-villa-saint-joseph-tilde-2017 2019-12-21 09:00:17   \n",
      "2    pierre-jean-villa-croze-hermitage-accroche-coe... 2020-06-26 18:15:03   \n",
      "3                    pierre-jean-villa-igp-gamine-2018 2020-01-04 16:36:01   \n",
      "4            pierre-jean-villa-cote-rotie-carmina-2017 2020-01-04 16:36:10   \n",
      "..                                                 ...                 ...   \n",
      "709                    mouthes-le-bihan-aime-chai-2015 2020-08-26 17:35:03   \n",
      "710         camin-larredya-jurancon-sec-la-virada-2018 2020-08-26 17:35:02   \n",
      "711             jamet-cote-rotie-fructus-voluptas-2018 2020-08-14 18:15:03   \n",
      "712     clos-du-mont-olivet-chateauneuf-du-pape-2007-2 2020-07-20 17:09:06   \n",
      "713  domaine-saint-nicolas-fiefs-vendeens-blanc-les... 2020-08-13 10:45:03   \n",
      "\n",
      "      post_modified_gmt post_parent  \\\n",
      "0   2019-12-30 08:30:29         0.0   \n",
      "1   2019-12-21 08:00:17         0.0   \n",
      "2   2020-06-26 16:15:03         0.0   \n",
      "3   2020-01-04 15:36:01         0.0   \n",
      "4   2020-01-04 15:36:10         0.0   \n",
      "..                  ...         ...   \n",
      "709 2020-08-26 15:35:03         0.0   \n",
      "710 2020-08-26 15:35:02         0.0   \n",
      "711 2020-08-14 16:15:03         0.0   \n",
      "712 2020-07-20 15:09:06         0.0   \n",
      "713 2020-08-13 08:45:03         0.0   \n",
      "\n",
      "                                                  guid menu_order post_type  \\\n",
      "0    https://www.bottle-neck.fr/?post_type=product&...        0.0   product   \n",
      "1    https://www.bottle-neck.fr/?post_type=product&...        0.0   product   \n",
      "2    https://www.bottle-neck.fr/?post_type=product&...        0.0   product   \n",
      "3    https://www.bottle-neck.fr/?post_type=product&...        0.0   product   \n",
      "4    https://www.bottle-neck.fr/?post_type=product&...        0.0   product   \n",
      "..                                                 ...        ...       ...   \n",
      "709  https://www.bottle-neck.fr/?post_type=product&...        0.0   product   \n",
      "710  https://www.bottle-neck.fr/?post_type=product&...        0.0   product   \n",
      "711  https://www.bottle-neck.fr/?post_type=product&...        0.0   product   \n",
      "712  https://www.bottle-neck.fr/?post_type=product&...        0.0   product   \n",
      "713  https://www.bottle-neck.fr/?post_type=product&...        0.0   product   \n",
      "\n",
      "    post_mime_type comment_count chiffre_affaires  \n",
      "0              NaN           0.0            145.2  \n",
      "1              NaN           0.0              0.0  \n",
      "2              NaN           0.0              0.0  \n",
      "3              NaN           0.0             42.3  \n",
      "4              NaN           0.0              0.0  \n",
      "..             ...           ...              ...  \n",
      "709            NaN           0.0             42.0  \n",
      "710            NaN           0.0              0.0  \n",
      "711            NaN           0.0              0.0  \n",
      "712            NaN           0.0              0.0  \n",
      "713            NaN           0.0              0.0  \n",
      "\n",
      "[682 rows x 30 columns]\n"
     ]
    }
   ],
   "source": [
    "print(result2)"
   ]
  },
  {
   "cell_type": "code",
   "execution_count": 275,
   "metadata": {},
   "outputs": [
    {
     "name": "stdout",
     "output_type": "stream",
     "text": [
      "63598.6\n"
     ]
    }
   ],
   "source": [
    "chiffre_affaires=result2['chiffre_affaires'].sum()\n",
    "print(chiffre_affaires)"
   ]
  },
  {
   "cell_type": "code",
   "execution_count": 276,
   "metadata": {},
   "outputs": [
    {
     "name": "stdout",
     "output_type": "stream",
     "text": [
      "6970.0\n"
     ]
    }
   ],
   "source": [
    "chiffre_affaires_upper=result['chiffre_affaires'].sum()\n",
    "print(chiffre_affaires_upper)"
   ]
  },
  {
   "cell_type": "code",
   "execution_count": 277,
   "metadata": {},
   "outputs": [
    {
     "name": "stdout",
     "output_type": "stream",
     "text": [
      "32\n"
     ]
    }
   ],
   "source": [
    "chiffre_affaires_upper_count=result['chiffre_affaires'].count()\n",
    "print(chiffre_affaires_upper_count)"
   ]
  },
  {
   "cell_type": "code",
   "execution_count": 284,
   "metadata": {},
   "outputs": [
    {
     "data": {
      "image/png": "[encoded data removed]",
      "text/plain": [
       "<Figure size 1000x600 with 1 Axes>"
      ]
     },
     "metadata": {},
     "output_type": "display_data"
    }
   ],
   "source": [
    "plt.figure(figsize=(10, 6))\n",
    "plt.scatter(web_products['price'].index, web_products['price'], color='blue', alpha=0.7) \n",
    "plt.title('distribution des prix')\n",
    "plt.xlabel('index_prix')\n",
    "plt.ylabel('prix')\n",
    "plt.xticks(rotation=45) \n",
    "plt.grid(True)  \n",
    "\n",
    "plt.show()"
   ]
  },
  {
   "cell_type": "markdown",
   "metadata": {},
   "source": [
    "<font color='red'>CONCLUSION: Nous avons 32 outliers qui representent environs 11 percents de CA en plus certains sont tres rapprochées à notre \"upper bound\" donc il ne s'agit pas vraimnt des outliers</font>"
   ]
  },
  {
   "cell_type": "markdown",
   "metadata": {},
   "source": [
    "<font color='orange'>Corelation entre 2 variables</font>"
   ]
  },
  {
   "cell_type": "code",
   "execution_count": 283,
   "metadata": {},
   "outputs": [
    {
     "data": {
      "image/png": "[encoded data removed]",
      "text/plain": [
       "<Figure size 1000x600 with 1 Axes>"
      ]
     },
     "metadata": {},
     "output_type": "display_data"
    }
   ],
   "source": [
    "plt.figure(figsize=(10, 6))\n",
    "plt.scatter(web_products['total_sales'], web_products['price'], color='blue', alpha=0.7) \n",
    "plt.title('sales vs prix')\n",
    "plt.xlabel('total_sales')\n",
    "plt.ylabel('prix')\n",
    "plt.xticks(rotation=45) \n",
    "plt.grid(True)  \n",
    "\n",
    "plt.show()"
   ]
  }
 ],
 "metadata": {
  "kernelspec": {
   "display_name": "Python 3",
   "language": "python",
   "name": "python3"
  },
  "language_info": {
   "codemirror_mode": {
    "name": "ipython",
    "version": 3
   },
   "file_extension": ".py",
   "mimetype": "text/x-python",
   "name": "python",
   "nbconvert_exporter": "python",
   "pygments_lexer": "ipython3",
   "version": "3.11.9"
  }
 },
 "nbformat": 4,
 "nbformat_minor": 2
}
